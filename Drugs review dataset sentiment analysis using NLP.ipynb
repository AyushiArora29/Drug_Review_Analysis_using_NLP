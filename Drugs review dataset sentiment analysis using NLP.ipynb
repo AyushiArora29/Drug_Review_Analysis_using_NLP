{
 "cells": [
  {
   "cell_type": "markdown",
   "id": "89d2e91a",
   "metadata": {},
   "source": [
    "<h1>Functional Analytics Project on Drug Review Dataset using NLP</h1>\n",
    "<p>By Ayushi Arora, Yogesh Sachdeva and Arpit Govila</p>\n",
    "<h2>Introduction</h2>\n",
    "<p>In this project we tried to explore and visualize the Drug Review Dataset using NLP and Hugging Face transformers to do the sentiment analysis</p>"
   ]
  },
  {
   "cell_type": "markdown",
   "id": "43f6b192",
   "metadata": {
    "papermill": {
     "duration": 0.031581,
     "end_time": "2022-11-20T14:02:57.193901",
     "exception": false,
     "start_time": "2022-11-20T14:02:57.162320",
     "status": "completed"
    },
    "tags": []
   },
   "source": [
    "# About Dataset\n",
    "\n",
    "* The Drug Review Dataset is taken from the UCI Machine Learning Repository. This Dataset provides patient reviews on specific drugs along with related conditions and a 10-star patient rating reflecting the overall patient satisfaction. The data was obtained by crawling online pharmaceutical review sites. The Drug Review Data Set is of shape (161297, 7) i.e. **It has 7 features** including the review and **161297 Data Points** or entries.\n",
    "* The features are 'drugName' which is the name of the drug, 'condition' which is the condition the patient is suffering from, 'review' is the patients review, 'rating' is the 10-star patient rating for the drug, 'date' is the date of the entry and the 'usefulcount' is the number of users who found the review useful.\n",
    "\n",
    "\n",
    "### Attributes :\n",
    "1. **drugName :** name of drug\n",
    "2.**condition :** name of condition\n",
    "3. **review :** patient review\n",
    "4. **rating :** 10 star patient rating\n",
    "5. **date :** date of review entry\n",
    "6. **usefulCount :** number of users who found review useful\n",
    "\n"
   ]
  },
  {
   "cell_type": "markdown",
   "id": "e86f5190",
   "metadata": {
    "papermill": {
     "duration": 0.021664,
     "end_time": "2022-11-20T14:02:57.238960",
     "exception": false,
     "start_time": "2022-11-20T14:02:57.217296",
     "status": "completed"
    },
    "tags": []
   },
   "source": [
    "# Objective :\n",
    "\n",
    "#### The Objective of this Project is to Analyse the Dataset, plot the inferences with good visualizations and answer some Questions to extract information from the Dataset.\n",
    "#### Also analyse the sentiment of the drug Users, according to their reviews and various other features like the condition they are suffering from, the rating of the drug used, Date of the usage, and others.\n",
    "\n",
    "\n",
    "#### *Questions*\n",
    "+ Types of questions we can ask?(Drugs,Review,Rating,Conditions,Time,Genuiness,etc)\n",
    "+ What is the most popular drug?\n",
    "+ What are the groups/classification of drugs used?\n",
    "+ Which Drug has the best review?\n",
    "+ How many drugs do we have?\n",
    "+ The number of drugs per condition\n",
    "+ Number of patients that searched on a particular drug\n",
    "+ How genuine is the review? (Using sentiment analysis)\n",
    "+ How many reviews are positive,negative,neutral?\n",
    "+ Correlation between rating and review and users who found the review useful\n",
    "+ Can you predict the rating using the review?\n",
    "+ Distribution of rating\n",
    "+ Amount of review made per year and per month\n",
    "+ Which condition has the most review on drugs\n",
    "\n",
    "\n"
   ]
  },
  {
   "cell_type": "code",
   "execution_count": 1,
   "id": "73302768",
   "metadata": {
    "execution": {
     "iopub.execute_input": "2022-11-20T14:02:57.287913Z",
     "iopub.status.busy": "2022-11-20T14:02:57.287080Z",
     "iopub.status.idle": "2022-11-20T14:02:57.297105Z",
     "shell.execute_reply": "2022-11-20T14:02:57.296144Z"
    },
    "papermill": {
     "duration": 0.03704,
     "end_time": "2022-11-20T14:02:57.299602",
     "exception": false,
     "start_time": "2022-11-20T14:02:57.262562",
     "status": "completed"
    },
    "tags": []
   },
   "outputs": [],
   "source": [
    "# Load EDA Pkgs\n",
    "import pandas as pd\n",
    "import numpy as np"
   ]
  },
  {
   "cell_type": "code",
   "execution_count": 2,
   "id": "73094d45",
   "metadata": {
    "execution": {
     "iopub.execute_input": "2022-11-20T14:02:57.347934Z",
     "iopub.status.busy": "2022-11-20T14:02:57.347112Z",
     "iopub.status.idle": "2022-11-20T14:02:58.550520Z",
     "shell.execute_reply": "2022-11-20T14:02:58.549141Z"
    },
    "papermill": {
     "duration": 1.230961,
     "end_time": "2022-11-20T14:02:58.553526",
     "exception": false,
     "start_time": "2022-11-20T14:02:57.322565",
     "status": "completed"
    },
    "tags": []
   },
   "outputs": [],
   "source": [
    "# Load Data Viz\n",
    "import matplotlib.pyplot as plt\n",
    "import seaborn as sns\n",
    "import plotly as px\n",
    "plt.style.use('fivethirtyeight')\n",
    "%matplotlib inline"
   ]
  },
  {
   "cell_type": "code",
   "execution_count": 3,
   "id": "dff309d2",
   "metadata": {
    "execution": {
     "iopub.execute_input": "2022-11-20T14:02:58.618924Z",
     "iopub.status.busy": "2022-11-20T14:02:58.618354Z",
     "iopub.status.idle": "2022-11-20T14:02:59.517815Z",
     "shell.execute_reply": "2022-11-20T14:02:59.516525Z"
    },
    "papermill": {
     "duration": 0.935932,
     "end_time": "2022-11-20T14:02:59.520891",
     "exception": false,
     "start_time": "2022-11-20T14:02:58.584959",
     "status": "completed"
    },
    "tags": []
   },
   "outputs": [],
   "source": [
    "# Load Sentiment Pkgs\n",
    "from textblob import TextBlob"
   ]
  },
  {
   "cell_type": "markdown",
   "id": "28a82a87",
   "metadata": {
    "papermill": {
     "duration": 0.021715,
     "end_time": "2022-11-20T14:02:59.565473",
     "exception": false,
     "start_time": "2022-11-20T14:02:59.543758",
     "status": "completed"
    },
    "tags": []
   },
   "source": [
    "# Loading the Datset"
   ]
  },
  {
   "cell_type": "code",
   "execution_count": 4,
   "id": "2c711c86",
   "metadata": {
    "execution": {
     "iopub.execute_input": "2022-11-20T14:02:59.612484Z",
     "iopub.status.busy": "2022-11-20T14:02:59.611992Z",
     "iopub.status.idle": "2022-11-20T14:03:01.956239Z",
     "shell.execute_reply": "2022-11-20T14:03:01.955075Z"
    },
    "papermill": {
     "duration": 2.372054,
     "end_time": "2022-11-20T14:03:01.959536",
     "exception": false,
     "start_time": "2022-11-20T14:02:59.587482",
     "status": "completed"
    },
    "tags": []
   },
   "outputs": [],
   "source": [
    "# Load Dataset\n",
    "df = pd.read_csv(\"drugsComTrain_raw.csv\")"
   ]
  },
  {
   "cell_type": "code",
   "execution_count": 5,
   "id": "20bdf5db",
   "metadata": {
    "execution": {
     "iopub.execute_input": "2022-11-20T14:03:02.009011Z",
     "iopub.status.busy": "2022-11-20T14:03:02.008306Z",
     "iopub.status.idle": "2022-11-20T14:03:02.033994Z",
     "shell.execute_reply": "2022-11-20T14:03:02.032438Z"
    },
    "papermill": {
     "duration": 0.055282,
     "end_time": "2022-11-20T14:03:02.037152",
     "exception": false,
     "start_time": "2022-11-20T14:03:01.981870",
     "status": "completed"
    },
    "tags": []
   },
   "outputs": [
    {
     "data": {
      "text/html": [
       "<div>\n",
       "<style scoped>\n",
       "    .dataframe tbody tr th:only-of-type {\n",
       "        vertical-align: middle;\n",
       "    }\n",
       "\n",
       "    .dataframe tbody tr th {\n",
       "        vertical-align: top;\n",
       "    }\n",
       "\n",
       "    .dataframe thead th {\n",
       "        text-align: right;\n",
       "    }\n",
       "</style>\n",
       "<table border=\"1\" class=\"dataframe\">\n",
       "  <thead>\n",
       "    <tr style=\"text-align: right;\">\n",
       "      <th></th>\n",
       "      <th>uniqueID</th>\n",
       "      <th>drugName</th>\n",
       "      <th>condition</th>\n",
       "      <th>review</th>\n",
       "      <th>rating</th>\n",
       "      <th>date</th>\n",
       "      <th>usefulCount</th>\n",
       "    </tr>\n",
       "  </thead>\n",
       "  <tbody>\n",
       "    <tr>\n",
       "      <th>0</th>\n",
       "      <td>206461</td>\n",
       "      <td>Valsartan</td>\n",
       "      <td>Left Ventricular Dysfunction</td>\n",
       "      <td>\"It has no side effect, I take it in combinati...</td>\n",
       "      <td>9</td>\n",
       "      <td>20-May-12</td>\n",
       "      <td>27</td>\n",
       "    </tr>\n",
       "    <tr>\n",
       "      <th>1</th>\n",
       "      <td>95260</td>\n",
       "      <td>Guanfacine</td>\n",
       "      <td>ADHD</td>\n",
       "      <td>\"My son is halfway through his fourth week of ...</td>\n",
       "      <td>8</td>\n",
       "      <td>27-Apr-10</td>\n",
       "      <td>192</td>\n",
       "    </tr>\n",
       "    <tr>\n",
       "      <th>2</th>\n",
       "      <td>92703</td>\n",
       "      <td>Lybrel</td>\n",
       "      <td>Birth Control</td>\n",
       "      <td>\"I used to take another oral contraceptive, wh...</td>\n",
       "      <td>5</td>\n",
       "      <td>14-Dec-09</td>\n",
       "      <td>17</td>\n",
       "    </tr>\n",
       "    <tr>\n",
       "      <th>3</th>\n",
       "      <td>138000</td>\n",
       "      <td>Ortho Evra</td>\n",
       "      <td>Birth Control</td>\n",
       "      <td>\"This is my first time using any form of birth...</td>\n",
       "      <td>8</td>\n",
       "      <td>3-Nov-15</td>\n",
       "      <td>10</td>\n",
       "    </tr>\n",
       "    <tr>\n",
       "      <th>4</th>\n",
       "      <td>35696</td>\n",
       "      <td>Buprenorphine / naloxone</td>\n",
       "      <td>Opiate Dependence</td>\n",
       "      <td>\"Suboxone has completely turned my life around...</td>\n",
       "      <td>9</td>\n",
       "      <td>27-Nov-16</td>\n",
       "      <td>37</td>\n",
       "    </tr>\n",
       "  </tbody>\n",
       "</table>\n",
       "</div>"
      ],
      "text/plain": [
       "   uniqueID                  drugName                     condition  \\\n",
       "0    206461                 Valsartan  Left Ventricular Dysfunction   \n",
       "1     95260                Guanfacine                          ADHD   \n",
       "2     92703                    Lybrel                 Birth Control   \n",
       "3    138000                Ortho Evra                 Birth Control   \n",
       "4     35696  Buprenorphine / naloxone             Opiate Dependence   \n",
       "\n",
       "                                              review  rating       date  \\\n",
       "0  \"It has no side effect, I take it in combinati...       9  20-May-12   \n",
       "1  \"My son is halfway through his fourth week of ...       8  27-Apr-10   \n",
       "2  \"I used to take another oral contraceptive, wh...       5  14-Dec-09   \n",
       "3  \"This is my first time using any form of birth...       8   3-Nov-15   \n",
       "4  \"Suboxone has completely turned my life around...       9  27-Nov-16   \n",
       "\n",
       "   usefulCount  \n",
       "0           27  \n",
       "1          192  \n",
       "2           17  \n",
       "3           10  \n",
       "4           37  "
      ]
     },
     "execution_count": 5,
     "metadata": {},
     "output_type": "execute_result"
    }
   ],
   "source": [
    "# Preview Dataset\n",
    "df.head()"
   ]
  },
  {
   "cell_type": "markdown",
   "id": "6a361ae4",
   "metadata": {
    "papermill": {
     "duration": 0.022462,
     "end_time": "2022-11-20T14:03:02.082789",
     "exception": false,
     "start_time": "2022-11-20T14:03:02.060327",
     "status": "completed"
    },
    "tags": []
   },
   "source": [
    "# Data Exploration"
   ]
  },
  {
   "cell_type": "code",
   "execution_count": 6,
   "id": "50e981c9",
   "metadata": {
    "execution": {
     "iopub.execute_input": "2022-11-20T14:03:02.129642Z",
     "iopub.status.busy": "2022-11-20T14:03:02.129169Z",
     "iopub.status.idle": "2022-11-20T14:03:02.136860Z",
     "shell.execute_reply": "2022-11-20T14:03:02.135716Z"
    },
    "papermill": {
     "duration": 0.033711,
     "end_time": "2022-11-20T14:03:02.139087",
     "exception": false,
     "start_time": "2022-11-20T14:03:02.105376",
     "status": "completed"
    },
    "tags": []
   },
   "outputs": [
    {
     "data": {
      "text/plain": [
       "Index(['uniqueID', 'drugName', 'condition', 'review', 'rating', 'date',\n",
       "       'usefulCount'],\n",
       "      dtype='object')"
      ]
     },
     "execution_count": 6,
     "metadata": {},
     "output_type": "execute_result"
    }
   ],
   "source": [
    "# Columns\n",
    "df.columns"
   ]
  },
  {
   "cell_type": "code",
   "execution_count": 7,
   "id": "4879c35a",
   "metadata": {
    "execution": {
     "iopub.execute_input": "2022-11-20T14:03:02.189093Z",
     "iopub.status.busy": "2022-11-20T14:03:02.188236Z",
     "iopub.status.idle": "2022-11-20T14:03:02.251251Z",
     "shell.execute_reply": "2022-11-20T14:03:02.249872Z"
    },
    "papermill": {
     "duration": 0.091819,
     "end_time": "2022-11-20T14:03:02.254422",
     "exception": false,
     "start_time": "2022-11-20T14:03:02.162603",
     "status": "completed"
    },
    "tags": []
   },
   "outputs": [
    {
     "data": {
      "text/plain": [
       "uniqueID         0\n",
       "drugName         0\n",
       "condition      899\n",
       "review           0\n",
       "rating           0\n",
       "date             0\n",
       "usefulCount      0\n",
       "dtype: int64"
      ]
     },
     "execution_count": 7,
     "metadata": {},
     "output_type": "execute_result"
    }
   ],
   "source": [
    "# Missing Values\n",
    "df.isnull().sum()"
   ]
  },
  {
   "cell_type": "markdown",
   "id": "13bc566d",
   "metadata": {
    "papermill": {
     "duration": 0.025561,
     "end_time": "2022-11-20T14:03:02.304819",
     "exception": false,
     "start_time": "2022-11-20T14:03:02.279258",
     "status": "completed"
    },
    "tags": []
   },
   "source": [
    "#### Observation :\n",
    "\n",
    "+ Most of the missing values are in the condition column\n",
    "+ This implies that most people don't know their condition by name or privacy"
   ]
  },
  {
   "cell_type": "code",
   "execution_count": 8,
   "id": "a2091b26",
   "metadata": {
    "execution": {
     "iopub.execute_input": "2022-11-20T14:03:02.354819Z",
     "iopub.status.busy": "2022-11-20T14:03:02.353947Z",
     "iopub.status.idle": "2022-11-20T14:03:02.416944Z",
     "shell.execute_reply": "2022-11-20T14:03:02.415455Z"
    },
    "papermill": {
     "duration": 0.091729,
     "end_time": "2022-11-20T14:03:02.420075",
     "exception": false,
     "start_time": "2022-11-20T14:03:02.328346",
     "status": "completed"
    },
    "tags": []
   },
   "outputs": [
    {
     "data": {
      "text/html": [
       "<div>\n",
       "<style scoped>\n",
       "    .dataframe tbody tr th:only-of-type {\n",
       "        vertical-align: middle;\n",
       "    }\n",
       "\n",
       "    .dataframe tbody tr th {\n",
       "        vertical-align: top;\n",
       "    }\n",
       "\n",
       "    .dataframe thead th {\n",
       "        text-align: right;\n",
       "    }\n",
       "</style>\n",
       "<table border=\"1\" class=\"dataframe\">\n",
       "  <thead>\n",
       "    <tr style=\"text-align: right;\">\n",
       "      <th></th>\n",
       "      <th>count</th>\n",
       "      <th>mean</th>\n",
       "      <th>std</th>\n",
       "      <th>min</th>\n",
       "      <th>25%</th>\n",
       "      <th>50%</th>\n",
       "      <th>75%</th>\n",
       "      <th>max</th>\n",
       "    </tr>\n",
       "  </thead>\n",
       "  <tbody>\n",
       "    <tr>\n",
       "      <th>uniqueID</th>\n",
       "      <td>161297.0</td>\n",
       "      <td>115923.585305</td>\n",
       "      <td>67004.445170</td>\n",
       "      <td>2.0</td>\n",
       "      <td>58063.0</td>\n",
       "      <td>115744.0</td>\n",
       "      <td>173776.0</td>\n",
       "      <td>232291.0</td>\n",
       "    </tr>\n",
       "    <tr>\n",
       "      <th>rating</th>\n",
       "      <td>161297.0</td>\n",
       "      <td>6.994377</td>\n",
       "      <td>3.272329</td>\n",
       "      <td>1.0</td>\n",
       "      <td>5.0</td>\n",
       "      <td>8.0</td>\n",
       "      <td>10.0</td>\n",
       "      <td>10.0</td>\n",
       "    </tr>\n",
       "    <tr>\n",
       "      <th>usefulCount</th>\n",
       "      <td>161297.0</td>\n",
       "      <td>28.004755</td>\n",
       "      <td>36.403742</td>\n",
       "      <td>0.0</td>\n",
       "      <td>6.0</td>\n",
       "      <td>16.0</td>\n",
       "      <td>36.0</td>\n",
       "      <td>1291.0</td>\n",
       "    </tr>\n",
       "  </tbody>\n",
       "</table>\n",
       "</div>"
      ],
      "text/plain": [
       "                count           mean           std  min      25%       50%  \\\n",
       "uniqueID     161297.0  115923.585305  67004.445170  2.0  58063.0  115744.0   \n",
       "rating       161297.0       6.994377      3.272329  1.0      5.0       8.0   \n",
       "usefulCount  161297.0      28.004755     36.403742  0.0      6.0      16.0   \n",
       "\n",
       "                  75%       max  \n",
       "uniqueID     173776.0  232291.0  \n",
       "rating           10.0      10.0  \n",
       "usefulCount      36.0    1291.0  "
      ]
     },
     "execution_count": 8,
     "metadata": {},
     "output_type": "execute_result"
    }
   ],
   "source": [
    "df.describe().T"
   ]
  },
  {
   "cell_type": "code",
   "execution_count": 9,
   "id": "a223791e",
   "metadata": {
    "execution": {
     "iopub.execute_input": "2022-11-20T14:03:02.471106Z",
     "iopub.status.busy": "2022-11-20T14:03:02.470608Z",
     "iopub.status.idle": "2022-11-20T14:03:02.543864Z",
     "shell.execute_reply": "2022-11-20T14:03:02.542575Z"
    },
    "papermill": {
     "duration": 0.102355,
     "end_time": "2022-11-20T14:03:02.546289",
     "exception": false,
     "start_time": "2022-11-20T14:03:02.443934",
     "status": "completed"
    },
    "tags": []
   },
   "outputs": [
    {
     "name": "stdout",
     "output_type": "stream",
     "text": [
      "<class 'pandas.core.frame.DataFrame'>\n",
      "RangeIndex: 161297 entries, 0 to 161296\n",
      "Data columns (total 7 columns):\n",
      " #   Column       Non-Null Count   Dtype \n",
      "---  ------       --------------   ----- \n",
      " 0   uniqueID     161297 non-null  int64 \n",
      " 1   drugName     161297 non-null  object\n",
      " 2   condition    160398 non-null  object\n",
      " 3   review       161297 non-null  object\n",
      " 4   rating       161297 non-null  int64 \n",
      " 5   date         161297 non-null  object\n",
      " 6   usefulCount  161297 non-null  int64 \n",
      "dtypes: int64(3), object(4)\n",
      "memory usage: 8.6+ MB\n",
      "============================================================================================================================================\n"
     ]
    },
    {
     "data": {
      "text/plain": [
       "uniqueID        int64\n",
       "drugName       object\n",
       "condition      object\n",
       "review         object\n",
       "rating          int64\n",
       "date           object\n",
       "usefulCount     int64\n",
       "dtype: object"
      ]
     },
     "execution_count": 9,
     "metadata": {},
     "output_type": "execute_result"
    }
   ],
   "source": [
    "df.info()\n",
    "print('=============='*10)\n",
    "df.dtypes"
   ]
  },
  {
   "cell_type": "markdown",
   "id": "02353253",
   "metadata": {
    "papermill": {
     "duration": 0.023722,
     "end_time": "2022-11-20T14:03:02.594698",
     "exception": false,
     "start_time": "2022-11-20T14:03:02.570976",
     "status": "completed"
    },
    "tags": []
   },
   "source": [
    "# EDA and Data Visualization"
   ]
  },
  {
   "cell_type": "markdown",
   "id": "143a8ee8",
   "metadata": {
    "papermill": {
     "duration": 0.023329,
     "end_time": "2022-11-20T14:03:02.642044",
     "exception": false,
     "start_time": "2022-11-20T14:03:02.618715",
     "status": "completed"
    },
    "tags": []
   },
   "source": [
    "\n",
    "### -- How many drugs do we have?"
   ]
  },
  {
   "cell_type": "code",
   "execution_count": 10,
   "id": "23c2ac2c",
   "metadata": {
    "execution": {
     "iopub.execute_input": "2022-11-20T14:03:02.692071Z",
     "iopub.status.busy": "2022-11-20T14:03:02.691592Z",
     "iopub.status.idle": "2022-11-20T14:03:02.715999Z",
     "shell.execute_reply": "2022-11-20T14:03:02.714147Z"
    },
    "papermill": {
     "duration": 0.052844,
     "end_time": "2022-11-20T14:03:02.719046",
     "exception": false,
     "start_time": "2022-11-20T14:03:02.666202",
     "status": "completed"
    },
    "tags": []
   },
   "outputs": [
    {
     "name": "stdout",
     "output_type": "stream",
     "text": [
      "The number of Drugs are: 3436\n"
     ]
    }
   ],
   "source": [
    "# How many drugs do we have?\n",
    "num = len(df['drugName'].unique().tolist())\n",
    "print('The number of Drugs are:',num )"
   ]
  },
  {
   "cell_type": "markdown",
   "id": "229b6e45",
   "metadata": {
    "papermill": {
     "duration": 0.023717,
     "end_time": "2022-11-20T14:03:02.766366",
     "exception": false,
     "start_time": "2022-11-20T14:03:02.742649",
     "status": "completed"
    },
    "tags": []
   },
   "source": [
    "###  --- What are the Most popular Drug?"
   ]
  },
  {
   "cell_type": "code",
   "execution_count": 11,
   "id": "7f52c989",
   "metadata": {
    "execution": {
     "iopub.execute_input": "2022-11-20T14:03:02.815425Z",
     "iopub.status.busy": "2022-11-20T14:03:02.814948Z",
     "iopub.status.idle": "2022-11-20T14:03:02.838274Z",
     "shell.execute_reply": "2022-11-20T14:03:02.837066Z"
    },
    "papermill": {
     "duration": 0.050474,
     "end_time": "2022-11-20T14:03:02.840794",
     "exception": false,
     "start_time": "2022-11-20T14:03:02.790320",
     "status": "completed"
    },
    "tags": []
   },
   "outputs": [
    {
     "data": {
      "text/plain": [
       "Levonorgestrel                        3657\n",
       "Etonogestrel                          3336\n",
       "Ethinyl estradiol / norethindrone     2850\n",
       "Nexplanon                             2156\n",
       "Ethinyl estradiol / norgestimate      2117\n",
       "Ethinyl estradiol / levonorgestrel    1888\n",
       "Phentermine                           1543\n",
       "Sertraline                            1360\n",
       "Escitalopram                          1292\n",
       "Mirena                                1242\n",
       "Implanon                              1102\n",
       "Gabapentin                            1047\n",
       "Bupropion                             1022\n",
       "Venlafaxine                           1016\n",
       "Miconazole                            1000\n",
       "Medroxyprogesterone                    995\n",
       "Citalopram                             995\n",
       "Lexapro                                952\n",
       "Bupropion / naltrexone                 950\n",
       "Duloxetine                             934\n",
       "Name: drugName, dtype: int64"
      ]
     },
     "execution_count": 11,
     "metadata": {},
     "output_type": "execute_result"
    }
   ],
   "source": [
    "# What is the most popular drug?\n",
    "# Top 20 Drugs (Most Popular)\n",
    "df['drugName'].value_counts().nlargest(20)"
   ]
  },
  {
   "cell_type": "code",
   "execution_count": 12,
   "id": "dfb71275",
   "metadata": {
    "execution": {
     "iopub.execute_input": "2022-11-20T14:03:02.891091Z",
     "iopub.status.busy": "2022-11-20T14:03:02.890600Z",
     "iopub.status.idle": "2022-11-20T14:03:03.339001Z",
     "shell.execute_reply": "2022-11-20T14:03:03.337687Z"
    },
    "papermill": {
     "duration": 0.476481,
     "end_time": "2022-11-20T14:03:03.341677",
     "exception": false,
     "start_time": "2022-11-20T14:03:02.865196",
     "status": "completed"
    },
    "tags": []
   },
   "outputs": [
    {
     "data": {
      "image/png": "[encoded data removed]",
      "text/plain": [
       "<Figure size 1440x720 with 1 Axes>"
      ]
     },
     "metadata": {
      "needs_background": "light"
     },
     "output_type": "display_data"
    }
   ],
   "source": [
    "# Top 20 Drugs (Most Popular)\n",
    "plt.figure(figsize=(20,10))\n",
    "df['drugName'].value_counts().nlargest(20).plot(kind='bar')\n",
    "plt.title(\"Top 20 Most popular drugs based on counts\")\n",
    "plt.show()"
   ]
  },
  {
   "cell_type": "markdown",
   "id": "73996294",
   "metadata": {
    "papermill": {
     "duration": 0.023692,
     "end_time": "2022-11-20T14:03:03.391681",
     "exception": false,
     "start_time": "2022-11-20T14:03:03.367989",
     "status": "completed"
    },
    "tags": []
   },
   "source": [
    "#### Observation\n",
    "+ Most of the commonest drugs are hormonal drugs\n"
   ]
  },
  {
   "cell_type": "code",
   "execution_count": 13,
   "id": "dc4e8e34",
   "metadata": {
    "execution": {
     "iopub.execute_input": "2022-11-20T14:03:03.444986Z",
     "iopub.status.busy": "2022-11-20T14:03:03.444521Z",
     "iopub.status.idle": "2022-11-20T14:03:04.036108Z",
     "shell.execute_reply": "2022-11-20T14:03:04.033922Z"
    },
    "papermill": {
     "duration": 0.621842,
     "end_time": "2022-11-20T14:03:04.038998",
     "exception": false,
     "start_time": "2022-11-20T14:03:03.417156",
     "status": "completed"
    },
    "tags": []
   },
   "outputs": [
    {
     "data": {
      "image/png": "[encoded data removed]",
      "text/plain": [
       "<Figure size 1440x720 with 1 Axes>"
      ]
     },
     "metadata": {
      "needs_background": "light"
     },
     "output_type": "display_data"
    }
   ],
   "source": [
    "# Top 20 Drugs on basis of ratings (Most Popular)\n",
    "plt.figure(figsize=(20,10))\n",
    "rating = dict(df.loc[df.rating == 10, \"drugName\"].value_counts())\n",
    "drugname = list(rating.keys())\n",
    "drug_rating = list(rating.values())\n",
    "\n",
    "sns_rating = sns.barplot(x = drugname[0:20], y = drug_rating[0:20], palette = 'BuPu_r')\n",
    "\n",
    "\n",
    "sns_rating.set_title('Top 20 drugs with 10/10 rating', fontsize=20)\n",
    "sns_rating.set_ylabel(\"Number of Ratings\")\n",
    "sns_rating.set_xlabel(\"Drug Names\")\n",
    "plt.setp(sns_rating.get_xticklabels(), rotation=90)\n",
    "plt.show()"
   ]
  },
  {
   "cell_type": "markdown",
   "id": "fb224ef8",
   "metadata": {
    "papermill": {
     "duration": 0.025447,
     "end_time": "2022-11-20T14:03:04.091217",
     "exception": false,
     "start_time": "2022-11-20T14:03:04.065770",
     "status": "completed"
    },
    "tags": []
   },
   "source": [
    "#### Observation :\n",
    "\n",
    "**Levonorgestrel, Phentemine, Etonogestrel** are the Durgs with the **Heighest Ratings**"
   ]
  },
  {
   "cell_type": "code",
   "execution_count": 14,
   "id": "0195d7b6",
   "metadata": {
    "execution": {
     "iopub.execute_input": "2022-11-20T14:03:04.145821Z",
     "iopub.status.busy": "2022-11-20T14:03:04.145327Z",
     "iopub.status.idle": "2022-11-20T14:03:04.700431Z",
     "shell.execute_reply": "2022-11-20T14:03:04.699138Z"
    },
    "papermill": {
     "duration": 0.585838,
     "end_time": "2022-11-20T14:03:04.703235",
     "exception": false,
     "start_time": "2022-11-20T14:03:04.117397",
     "status": "completed"
    },
    "tags": []
   },
   "outputs": [
    {
     "data": {
      "image/png": "[encoded data removed]",
      "text/plain": [
       "<Figure size 1440x720 with 1 Axes>"
      ]
     },
     "metadata": {
      "needs_background": "light"
     },
     "output_type": "display_data"
    }
   ],
   "source": [
    "# Least 20 Drugs with less ratings (Most Popular)\n",
    "plt.figure(figsize=(20,10))\n",
    "rating = dict(df.loc[df.rating == 1, \"drugName\"].value_counts())\n",
    "drugname = list(rating.keys())\n",
    "drug_rating = list(rating.values())\n",
    "\n",
    "sns_rating = sns.barplot(x = drugname[0:20], y = drug_rating[0:20], palette = 'viridis')\n",
    "\n",
    "\n",
    "sns_rating.set_title('Top 20 drugs with 1/10 rating')\n",
    "sns_rating.set_ylabel(\"Number of Ratings\")\n",
    "sns_rating.set_xlabel(\"Drug Names\")\n",
    "plt.setp(sns_rating.get_xticklabels(), rotation=90)\n",
    "plt.show()"
   ]
  },
  {
   "cell_type": "markdown",
   "id": "acba955a",
   "metadata": {
    "papermill": {
     "duration": 0.025587,
     "end_time": "2022-11-20T14:03:04.755251",
     "exception": false,
     "start_time": "2022-11-20T14:03:04.729664",
     "status": "completed"
    },
    "tags": []
   },
   "source": [
    "#### Observation :\n",
    "\n",
    "**Norethindrone, Miconzole** are the Drugs with the **Least ratings** given by users"
   ]
  },
  {
   "cell_type": "markdown",
   "id": "4d26706e",
   "metadata": {
    "papermill": {
     "duration": 0.025574,
     "end_time": "2022-11-20T14:03:04.807090",
     "exception": false,
     "start_time": "2022-11-20T14:03:04.781516",
     "status": "completed"
    },
    "tags": []
   },
   "source": [
    "### -- What are the groups/classification of drugs used?\n",
    "+ suffix or endings"
   ]
  },
  {
   "cell_type": "code",
   "execution_count": 15,
   "id": "54db6969",
   "metadata": {
    "execution": {
     "iopub.execute_input": "2022-11-20T14:03:04.860823Z",
     "iopub.status.busy": "2022-11-20T14:03:04.860344Z",
     "iopub.status.idle": "2022-11-20T14:03:04.869185Z",
     "shell.execute_reply": "2022-11-20T14:03:04.867910Z"
    },
    "papermill": {
     "duration": 0.039218,
     "end_time": "2022-11-20T14:03:04.871907",
     "exception": false,
     "start_time": "2022-11-20T14:03:04.832689",
     "status": "completed"
    },
    "tags": []
   },
   "outputs": [],
   "source": [
    "drug_suffix = {\"azole\":\"antifungal (except metronidazole)\",\n",
    "\"caine\":\"anesthetic\",\n",
    "\"cillin\":\"antibiotic(penicillins)\",\n",
    "\"mycin\":\"antibiotic\",\n",
    "\"micin\":\"antibiotic\",\n",
    "\"cycline\":\"antibiotic\",\n",
    "\"oxacin\":\"antibiotic\",\n",
    "\"ceph\":\"antibiotic(cephalosporins)\",\n",
    "\"cef\":\"antibiotic (cephalosporins)\",\n",
    "\"dine\":\"h2 blockers (anti-ulcers)\",\n",
    "\"done\":\"opiod analgesics\",\n",
    "\"ide\":\"oral hypoglycemics\",\n",
    "\"lam\":\"anti-anxiety\",\n",
    "\"pam\":\"anti-anxiety\",\n",
    "\"mide\":\"diuretics\",\n",
    "\"zide\":\"diuretics\",\n",
    "\"nium\":\"neuromuscular blocking agents\",\n",
    "\"olol\":\"beta blockers\",\n",
    "\"tidine\":\"h2 antagonist\",\n",
    "\"tropin\":\"pituitary hormone\",\n",
    "\"zosin\":\"alpha blocker\",\n",
    "\"ase\":\"thrombolytics\",\n",
    "\"plase\":\"thrombolytics\",\n",
    "\"azepam\":\"anti-anziety(benzodiazepine)\",\n",
    "\"azine\":\"antipyschotics (phenothiazine)\",\n",
    "\"barbital\":\"barbiturate\",\n",
    "\"dipine\":\"calcium channel blocker\",\n",
    "\"lol\":\"beta blocker\",\n",
    "\"zolam\":\"cns depressants\",\n",
    "\"pril\":\"ace inhibitor\",\n",
    "\"artan\":\"arb blocker\",\n",
    "\"statins\":\"lipid-lowering drugs\",\n",
    "\"parin\":\"anticoagulants\",\n",
    "\"sone\":\"corticosteroid (prednisone)\"}"
   ]
  },
  {
   "cell_type": "code",
   "execution_count": 16,
   "id": "0db27c6d",
   "metadata": {
    "execution": {
     "iopub.execute_input": "2022-11-20T14:03:04.925775Z",
     "iopub.status.busy": "2022-11-20T14:03:04.925332Z",
     "iopub.status.idle": "2022-11-20T14:03:04.931096Z",
     "shell.execute_reply": "2022-11-20T14:03:04.930070Z"
    },
    "papermill": {
     "duration": 0.035412,
     "end_time": "2022-11-20T14:03:04.933540",
     "exception": false,
     "start_time": "2022-11-20T14:03:04.898128",
     "status": "completed"
    },
    "tags": []
   },
   "outputs": [],
   "source": [
    "def classify_drug(drugname):\n",
    "    for i in drug_suffix.keys():\n",
    "        if drugname.endswith(i):\n",
    "            return drug_suffix[i]"
   ]
  },
  {
   "cell_type": "code",
   "execution_count": 17,
   "id": "15b52e62",
   "metadata": {
    "execution": {
     "iopub.execute_input": "2022-11-20T14:03:04.987558Z",
     "iopub.status.busy": "2022-11-20T14:03:04.986784Z",
     "iopub.status.idle": "2022-11-20T14:03:04.993707Z",
     "shell.execute_reply": "2022-11-20T14:03:04.992865Z"
    },
    "papermill": {
     "duration": 0.036151,
     "end_time": "2022-11-20T14:03:04.995778",
     "exception": false,
     "start_time": "2022-11-20T14:03:04.959627",
     "status": "completed"
    },
    "tags": []
   },
   "outputs": [
    {
     "data": {
      "text/plain": [
       "'arb blocker'"
      ]
     },
     "execution_count": 17,
     "metadata": {},
     "output_type": "execute_result"
    }
   ],
   "source": [
    "classify_drug('valsartan')"
   ]
  },
  {
   "cell_type": "code",
   "execution_count": 18,
   "id": "f45984b8",
   "metadata": {
    "execution": {
     "iopub.execute_input": "2022-11-20T14:03:05.049271Z",
     "iopub.status.busy": "2022-11-20T14:03:05.048811Z",
     "iopub.status.idle": "2022-11-20T14:03:05.831450Z",
     "shell.execute_reply": "2022-11-20T14:03:05.830033Z"
    },
    "papermill": {
     "duration": 0.812973,
     "end_time": "2022-11-20T14:03:05.834583",
     "exception": false,
     "start_time": "2022-11-20T14:03:05.021610",
     "status": "completed"
    },
    "tags": []
   },
   "outputs": [],
   "source": [
    "df['drug_class'] = df['drugName'].apply(classify_drug)"
   ]
  },
  {
   "cell_type": "code",
   "execution_count": 19,
   "id": "2d01a0e3",
   "metadata": {
    "execution": {
     "iopub.execute_input": "2022-11-20T14:03:05.889798Z",
     "iopub.status.busy": "2022-11-20T14:03:05.889360Z",
     "iopub.status.idle": "2022-11-20T14:03:05.947569Z",
     "shell.execute_reply": "2022-11-20T14:03:05.946343Z"
    },
    "papermill": {
     "duration": 0.090039,
     "end_time": "2022-11-20T14:03:05.950698",
     "exception": false,
     "start_time": "2022-11-20T14:03:05.860659",
     "status": "completed"
    },
    "tags": []
   },
   "outputs": [
    {
     "data": {
      "text/html": [
       "<div>\n",
       "<style scoped>\n",
       "    .dataframe tbody tr th:only-of-type {\n",
       "        vertical-align: middle;\n",
       "    }\n",
       "\n",
       "    .dataframe tbody tr th {\n",
       "        vertical-align: top;\n",
       "    }\n",
       "\n",
       "    .dataframe thead th {\n",
       "        text-align: right;\n",
       "    }\n",
       "</style>\n",
       "<table border=\"1\" class=\"dataframe\">\n",
       "  <thead>\n",
       "    <tr style=\"text-align: right;\">\n",
       "      <th></th>\n",
       "      <th>drugName</th>\n",
       "      <th>drug_class</th>\n",
       "    </tr>\n",
       "  </thead>\n",
       "  <tbody>\n",
       "    <tr>\n",
       "      <th>0</th>\n",
       "      <td>Valsartan</td>\n",
       "      <td>arb blocker</td>\n",
       "    </tr>\n",
       "    <tr>\n",
       "      <th>1</th>\n",
       "      <td>Guanfacine</td>\n",
       "      <td>None</td>\n",
       "    </tr>\n",
       "    <tr>\n",
       "      <th>2</th>\n",
       "      <td>Lybrel</td>\n",
       "      <td>None</td>\n",
       "    </tr>\n",
       "    <tr>\n",
       "      <th>3</th>\n",
       "      <td>Ortho Evra</td>\n",
       "      <td>None</td>\n",
       "    </tr>\n",
       "    <tr>\n",
       "      <th>4</th>\n",
       "      <td>Buprenorphine / naloxone</td>\n",
       "      <td>None</td>\n",
       "    </tr>\n",
       "    <tr>\n",
       "      <th>...</th>\n",
       "      <td>...</td>\n",
       "      <td>...</td>\n",
       "    </tr>\n",
       "    <tr>\n",
       "      <th>161292</th>\n",
       "      <td>Campral</td>\n",
       "      <td>None</td>\n",
       "    </tr>\n",
       "    <tr>\n",
       "      <th>161293</th>\n",
       "      <td>Metoclopramide</td>\n",
       "      <td>oral hypoglycemics</td>\n",
       "    </tr>\n",
       "    <tr>\n",
       "      <th>161294</th>\n",
       "      <td>Orencia</td>\n",
       "      <td>None</td>\n",
       "    </tr>\n",
       "    <tr>\n",
       "      <th>161295</th>\n",
       "      <td>Thyroid desiccated</td>\n",
       "      <td>None</td>\n",
       "    </tr>\n",
       "    <tr>\n",
       "      <th>161296</th>\n",
       "      <td>Lubiprostone</td>\n",
       "      <td>None</td>\n",
       "    </tr>\n",
       "  </tbody>\n",
       "</table>\n",
       "<p>161297 rows × 2 columns</p>\n",
       "</div>"
      ],
      "text/plain": [
       "                        drugName          drug_class\n",
       "0                      Valsartan         arb blocker\n",
       "1                     Guanfacine                None\n",
       "2                         Lybrel                None\n",
       "3                     Ortho Evra                None\n",
       "4       Buprenorphine / naloxone                None\n",
       "...                          ...                 ...\n",
       "161292                   Campral                None\n",
       "161293            Metoclopramide  oral hypoglycemics\n",
       "161294                   Orencia                None\n",
       "161295        Thyroid desiccated                None\n",
       "161296              Lubiprostone                None\n",
       "\n",
       "[161297 rows x 2 columns]"
      ]
     },
     "execution_count": 19,
     "metadata": {},
     "output_type": "execute_result"
    }
   ],
   "source": [
    "df[['drugName','drug_class']]"
   ]
  },
  {
   "cell_type": "code",
   "execution_count": 20,
   "id": "d48bf8d2",
   "metadata": {
    "execution": {
     "iopub.execute_input": "2022-11-20T14:03:06.006097Z",
     "iopub.status.busy": "2022-11-20T14:03:06.005612Z",
     "iopub.status.idle": "2022-11-20T14:03:06.020408Z",
     "shell.execute_reply": "2022-11-20T14:03:06.019128Z"
    },
    "papermill": {
     "duration": 0.045793,
     "end_time": "2022-11-20T14:03:06.022975",
     "exception": false,
     "start_time": "2022-11-20T14:03:05.977182",
     "status": "completed"
    },
    "tags": []
   },
   "outputs": [
    {
     "data": {
      "text/plain": [
       "['arb blocker',\n",
       " None,\n",
       " 'antifungal (except metronidazole)',\n",
       " 'oral hypoglycemics',\n",
       " 'opiod analgesics',\n",
       " 'antibiotic',\n",
       " 'anti-anxiety',\n",
       " 'h2 blockers (anti-ulcers)',\n",
       " 'beta blockers',\n",
       " 'ace inhibitor',\n",
       " 'thrombolytics',\n",
       " 'alpha blocker',\n",
       " 'corticosteroid (prednisone)',\n",
       " 'antipyschotics (phenothiazine)',\n",
       " 'antibiotic(penicillins)',\n",
       " 'barbiturate',\n",
       " 'calcium channel blocker',\n",
       " 'anesthetic',\n",
       " 'pituitary hormone',\n",
       " 'antibiotic (cephalosporins)',\n",
       " 'beta blocker',\n",
       " 'neuromuscular blocking agents',\n",
       " 'anticoagulants']"
      ]
     },
     "execution_count": 20,
     "metadata": {},
     "output_type": "execute_result"
    }
   ],
   "source": [
    "# How many Groups of Drugs By Class\n",
    "df['drug_class'].unique().tolist()"
   ]
  },
  {
   "cell_type": "code",
   "execution_count": 21,
   "id": "099faa27",
   "metadata": {
    "execution": {
     "iopub.execute_input": "2022-11-20T14:03:06.078719Z",
     "iopub.status.busy": "2022-11-20T14:03:06.078263Z",
     "iopub.status.idle": "2022-11-20T14:03:06.090863Z",
     "shell.execute_reply": "2022-11-20T14:03:06.089621Z"
    },
    "papermill": {
     "duration": 0.044494,
     "end_time": "2022-11-20T14:03:06.094258",
     "exception": false,
     "start_time": "2022-11-20T14:03:06.049764",
     "status": "completed"
    },
    "tags": []
   },
   "outputs": [
    {
     "name": "stdout",
     "output_type": "stream",
     "text": [
      "Groups of Drugs by Class: 23\n"
     ]
    }
   ],
   "source": [
    "# How many Groups of Drugs By Class\n",
    "grp_drugs = len(df['drug_class'].unique().tolist())\n",
    "print('Groups of Drugs by Class:',grp_drugs)"
   ]
  },
  {
   "cell_type": "markdown",
   "id": "42a89f70",
   "metadata": {
    "papermill": {
     "duration": 0.025578,
     "end_time": "2022-11-20T14:03:06.146743",
     "exception": false,
     "start_time": "2022-11-20T14:03:06.121165",
     "status": "completed"
    },
    "tags": []
   },
   "source": [
    "### -- Which class of Drug is the most common ?"
   ]
  },
  {
   "cell_type": "code",
   "execution_count": 22,
   "id": "e7316caa",
   "metadata": {
    "execution": {
     "iopub.execute_input": "2022-11-20T14:03:06.201322Z",
     "iopub.status.busy": "2022-11-20T14:03:06.200846Z",
     "iopub.status.idle": "2022-11-20T14:03:06.213495Z",
     "shell.execute_reply": "2022-11-20T14:03:06.212314Z"
    },
    "papermill": {
     "duration": 0.042927,
     "end_time": "2022-11-20T14:03:06.215818",
     "exception": false,
     "start_time": "2022-11-20T14:03:06.172891",
     "status": "completed"
    },
    "tags": []
   },
   "outputs": [
    {
     "data": {
      "text/plain": [
       "antifungal (except metronidazole)    4201\n",
       "opiod analgesics                     3945\n",
       "oral hypoglycemics                   3555\n",
       "antibiotic                           3401\n",
       "anti-anxiety                         2645\n",
       "h2 blockers (anti-ulcers)            1228\n",
       "beta blockers                         966\n",
       "corticosteroid (prednisone)           886\n",
       "antipyschotics (phenothiazine)        664\n",
       "arb blocker                           560\n",
       "ace inhibitor                         432\n",
       "calcium channel blocker               233\n",
       "alpha blocker                         153\n",
       "anesthetic                            129\n",
       "antibiotic(penicillins)               119\n",
       "thrombolytics                         116\n",
       "beta blocker                           97\n",
       "neuromuscular blocking agents          45\n",
       "antibiotic (cephalosporins)            29\n",
       "pituitary hormone                      28\n",
       "barbiturate                            19\n",
       "anticoagulants                          9\n",
       "Name: drug_class, dtype: int64"
      ]
     },
     "execution_count": 22,
     "metadata": {},
     "output_type": "execute_result"
    }
   ],
   "source": [
    "# Which of class of drug  is the most commonest\n",
    "df['drug_class'].value_counts()"
   ]
  },
  {
   "cell_type": "code",
   "execution_count": 23,
   "id": "bc892d27",
   "metadata": {
    "execution": {
     "iopub.execute_input": "2022-11-20T14:03:06.271279Z",
     "iopub.status.busy": "2022-11-20T14:03:06.270783Z",
     "iopub.status.idle": "2022-11-20T14:03:06.927140Z",
     "shell.execute_reply": "2022-11-20T14:03:06.925832Z"
    },
    "papermill": {
     "duration": 0.687909,
     "end_time": "2022-11-20T14:03:06.930085",
     "exception": false,
     "start_time": "2022-11-20T14:03:06.242176",
     "status": "completed"
    },
    "tags": []
   },
   "outputs": [
    {
     "name": "stderr",
     "output_type": "stream",
     "text": [
      "C:\\Users\\Yogesh\\anaconda3\\lib\\site-packages\\seaborn\\_decorators.py:36: FutureWarning: Pass the following variable as a keyword arg: x. From version 0.12, the only valid positional argument will be `data`, and passing other arguments without an explicit keyword will result in an error or misinterpretation.\n",
      "  warnings.warn(\n"
     ]
    },
    {
     "data": {
      "image/png": "[encoded data removed]",
      "text/plain": [
       "<Figure size 1440x720 with 1 Axes>"
      ]
     },
     "metadata": {
      "needs_background": "light"
     },
     "output_type": "display_data"
    }
   ],
   "source": [
    "# Which of class of drug  is the most commonest\n",
    "\n",
    "plt.figure(figsize=(20,10))\n",
    "sns_1 = sns.countplot(df['drug_class'], palette = 'spring')\n",
    "    \n",
    "sns_1.set_title('Common Drugs')\n",
    "sns_1.set_xlabel(\"Rating\")\n",
    "sns_1.set_xlabel(\"Drug class\")\n",
    "plt.setp(sns_1.get_xticklabels(), rotation=270)\n",
    "plt.show()"
   ]
  },
  {
   "cell_type": "markdown",
   "id": "de12a399",
   "metadata": {
    "papermill": {
     "duration": 0.027586,
     "end_time": "2022-11-20T14:03:06.985663",
     "exception": false,
     "start_time": "2022-11-20T14:03:06.958077",
     "status": "completed"
    },
    "tags": []
   },
   "source": [
    "#### Observations :\n",
    "\n",
    "+ The most commonest class/group of drugs used are \n",
    "    - **Antifungal**\n",
    "    - **Opiod Analgesics(Pain Killers)**\n",
    "    - **Oral Hypoglycemics (DM)**\n",
    "    - **Antibiotic**"
   ]
  },
  {
   "cell_type": "markdown",
   "id": "92743d45",
   "metadata": {
    "papermill": {
     "duration": 0.027489,
     "end_time": "2022-11-20T14:03:07.040973",
     "exception": false,
     "start_time": "2022-11-20T14:03:07.013484",
     "status": "completed"
    },
    "tags": []
   },
   "source": [
    "### -- Distribution of Drugs(class) Per Drug Group based on size"
   ]
  },
  {
   "cell_type": "code",
   "execution_count": 24,
   "id": "a0e680f8",
   "metadata": {
    "execution": {
     "iopub.execute_input": "2022-11-20T14:03:07.100415Z",
     "iopub.status.busy": "2022-11-20T14:03:07.099578Z",
     "iopub.status.idle": "2022-11-20T14:03:07.115710Z",
     "shell.execute_reply": "2022-11-20T14:03:07.114480Z"
    },
    "papermill": {
     "duration": 0.048042,
     "end_time": "2022-11-20T14:03:07.118549",
     "exception": false,
     "start_time": "2022-11-20T14:03:07.070507",
     "status": "completed"
    },
    "tags": []
   },
   "outputs": [],
   "source": [
    "# Distribution of Drugs Per Drug Group based on size\n",
    "drug_groups = df.groupby('drug_class').size()"
   ]
  },
  {
   "cell_type": "code",
   "execution_count": 25,
   "id": "1d660651",
   "metadata": {
    "execution": {
     "iopub.execute_input": "2022-11-20T14:03:07.176848Z",
     "iopub.status.busy": "2022-11-20T14:03:07.176387Z",
     "iopub.status.idle": "2022-11-20T14:03:07.182908Z",
     "shell.execute_reply": "2022-11-20T14:03:07.182069Z"
    },
    "papermill": {
     "duration": 0.0381,
     "end_time": "2022-11-20T14:03:07.185076",
     "exception": false,
     "start_time": "2022-11-20T14:03:07.146976",
     "status": "completed"
    },
    "tags": []
   },
   "outputs": [
    {
     "data": {
      "text/plain": [
       "pandas.core.series.Series"
      ]
     },
     "execution_count": 25,
     "metadata": {},
     "output_type": "execute_result"
    }
   ],
   "source": [
    "type(drug_groups)"
   ]
  },
  {
   "cell_type": "code",
   "execution_count": 26,
   "id": "f605ca35",
   "metadata": {
    "execution": {
     "iopub.execute_input": "2022-11-20T14:03:07.245201Z",
     "iopub.status.busy": "2022-11-20T14:03:07.244021Z",
     "iopub.status.idle": "2022-11-20T14:03:07.255234Z",
     "shell.execute_reply": "2022-11-20T14:03:07.254345Z"
    },
    "papermill": {
     "duration": 0.043347,
     "end_time": "2022-11-20T14:03:07.257648",
     "exception": false,
     "start_time": "2022-11-20T14:03:07.214301",
     "status": "completed"
    },
    "tags": []
   },
   "outputs": [
    {
     "data": {
      "text/html": [
       "<div>\n",
       "<style scoped>\n",
       "    .dataframe tbody tr th:only-of-type {\n",
       "        vertical-align: middle;\n",
       "    }\n",
       "\n",
       "    .dataframe tbody tr th {\n",
       "        vertical-align: top;\n",
       "    }\n",
       "\n",
       "    .dataframe thead th {\n",
       "        text-align: right;\n",
       "    }\n",
       "</style>\n",
       "<table border=\"1\" class=\"dataframe\">\n",
       "  <thead>\n",
       "    <tr style=\"text-align: right;\">\n",
       "      <th></th>\n",
       "      <th>0</th>\n",
       "    </tr>\n",
       "    <tr>\n",
       "      <th>drug_class</th>\n",
       "      <th></th>\n",
       "    </tr>\n",
       "  </thead>\n",
       "  <tbody>\n",
       "    <tr>\n",
       "      <th>ace inhibitor</th>\n",
       "      <td>432</td>\n",
       "    </tr>\n",
       "    <tr>\n",
       "      <th>alpha blocker</th>\n",
       "      <td>153</td>\n",
       "    </tr>\n",
       "    <tr>\n",
       "      <th>anesthetic</th>\n",
       "      <td>129</td>\n",
       "    </tr>\n",
       "    <tr>\n",
       "      <th>anti-anxiety</th>\n",
       "      <td>2645</td>\n",
       "    </tr>\n",
       "    <tr>\n",
       "      <th>antibiotic</th>\n",
       "      <td>3401</td>\n",
       "    </tr>\n",
       "    <tr>\n",
       "      <th>antibiotic (cephalosporins)</th>\n",
       "      <td>29</td>\n",
       "    </tr>\n",
       "    <tr>\n",
       "      <th>antibiotic(penicillins)</th>\n",
       "      <td>119</td>\n",
       "    </tr>\n",
       "    <tr>\n",
       "      <th>anticoagulants</th>\n",
       "      <td>9</td>\n",
       "    </tr>\n",
       "    <tr>\n",
       "      <th>antifungal (except metronidazole)</th>\n",
       "      <td>4201</td>\n",
       "    </tr>\n",
       "    <tr>\n",
       "      <th>antipyschotics (phenothiazine)</th>\n",
       "      <td>664</td>\n",
       "    </tr>\n",
       "    <tr>\n",
       "      <th>arb blocker</th>\n",
       "      <td>560</td>\n",
       "    </tr>\n",
       "    <tr>\n",
       "      <th>barbiturate</th>\n",
       "      <td>19</td>\n",
       "    </tr>\n",
       "    <tr>\n",
       "      <th>beta blocker</th>\n",
       "      <td>97</td>\n",
       "    </tr>\n",
       "    <tr>\n",
       "      <th>beta blockers</th>\n",
       "      <td>966</td>\n",
       "    </tr>\n",
       "    <tr>\n",
       "      <th>calcium channel blocker</th>\n",
       "      <td>233</td>\n",
       "    </tr>\n",
       "    <tr>\n",
       "      <th>corticosteroid (prednisone)</th>\n",
       "      <td>886</td>\n",
       "    </tr>\n",
       "    <tr>\n",
       "      <th>h2 blockers (anti-ulcers)</th>\n",
       "      <td>1228</td>\n",
       "    </tr>\n",
       "    <tr>\n",
       "      <th>neuromuscular blocking agents</th>\n",
       "      <td>45</td>\n",
       "    </tr>\n",
       "    <tr>\n",
       "      <th>opiod analgesics</th>\n",
       "      <td>3945</td>\n",
       "    </tr>\n",
       "    <tr>\n",
       "      <th>oral hypoglycemics</th>\n",
       "      <td>3555</td>\n",
       "    </tr>\n",
       "    <tr>\n",
       "      <th>pituitary hormone</th>\n",
       "      <td>28</td>\n",
       "    </tr>\n",
       "    <tr>\n",
       "      <th>thrombolytics</th>\n",
       "      <td>116</td>\n",
       "    </tr>\n",
       "  </tbody>\n",
       "</table>\n",
       "</div>"
      ],
      "text/plain": [
       "                                      0\n",
       "drug_class                             \n",
       "ace inhibitor                       432\n",
       "alpha blocker                       153\n",
       "anesthetic                          129\n",
       "anti-anxiety                       2645\n",
       "antibiotic                         3401\n",
       "antibiotic (cephalosporins)          29\n",
       "antibiotic(penicillins)             119\n",
       "anticoagulants                        9\n",
       "antifungal (except metronidazole)  4201\n",
       "antipyschotics (phenothiazine)      664\n",
       "arb blocker                         560\n",
       "barbiturate                          19\n",
       "beta blocker                         97\n",
       "beta blockers                       966\n",
       "calcium channel blocker             233\n",
       "corticosteroid (prednisone)         886\n",
       "h2 blockers (anti-ulcers)          1228\n",
       "neuromuscular blocking agents        45\n",
       "opiod analgesics                   3945\n",
       "oral hypoglycemics                 3555\n",
       "pituitary hormone                    28\n",
       "thrombolytics                       116"
      ]
     },
     "execution_count": 26,
     "metadata": {},
     "output_type": "execute_result"
    }
   ],
   "source": [
    "# Convert to DF\n",
    "# Method 1\n",
    "drug_groups.to_frame()"
   ]
  },
  {
   "cell_type": "code",
   "execution_count": 27,
   "id": "e441f76a",
   "metadata": {
    "execution": {
     "iopub.execute_input": "2022-11-20T14:03:07.318965Z",
     "iopub.status.busy": "2022-11-20T14:03:07.318199Z",
     "iopub.status.idle": "2022-11-20T14:03:07.325146Z",
     "shell.execute_reply": "2022-11-20T14:03:07.324150Z"
    },
    "papermill": {
     "duration": 0.041961,
     "end_time": "2022-11-20T14:03:07.328276",
     "exception": false,
     "start_time": "2022-11-20T14:03:07.286315",
     "status": "completed"
    },
    "tags": []
   },
   "outputs": [],
   "source": [
    "# Convert to DF\n",
    "# Method 2\n",
    "drug_groups_df = pd.DataFrame({'drug_class':drug_groups.index,'counts':drug_groups.values})"
   ]
  },
  {
   "cell_type": "code",
   "execution_count": 28,
   "id": "9cef5f65",
   "metadata": {
    "execution": {
     "iopub.execute_input": "2022-11-20T14:03:07.387041Z",
     "iopub.status.busy": "2022-11-20T14:03:07.386303Z",
     "iopub.status.idle": "2022-11-20T14:03:08.202559Z",
     "shell.execute_reply": "2022-11-20T14:03:08.201223Z"
    },
    "papermill": {
     "duration": 0.848882,
     "end_time": "2022-11-20T14:03:08.205308",
     "exception": false,
     "start_time": "2022-11-20T14:03:07.356426",
     "status": "completed"
    },
    "tags": []
   },
   "outputs": [
    {
     "data": {
      "image/png": "[encoded data removed]",
      "text/plain": [
       "<Figure size 1440x720 with 1 Axes>"
      ]
     },
     "metadata": {
      "needs_background": "light"
     },
     "output_type": "display_data"
    }
   ],
   "source": [
    "# Seaborn Plot\n",
    "plt.figure(figsize=(20,10))\n",
    "# g = sns.barplot(data=drug_groups_df,x='drug_class',y='counts', palette='gnuplot_r')\n",
    "\n",
    "sns_1 = sns.barplot(data=drug_groups_df,x='drug_class',y='counts', palette = 'spring')\n",
    "    \n",
    "sns_1.set_title('Heighest Count of Drugs in a Drug Class', fontsize=20)\n",
    "sns_1.set_xlabel(\"count\")\n",
    "sns_1.set_xlabel(\"Drug class\")\n",
    "\n",
    "\n",
    "sns_1.set_xticklabels(drug_groups_df['drug_class'].values,rotation=90)\n",
    "plt.show()"
   ]
  },
  {
   "cell_type": "markdown",
   "id": "339d57fc",
   "metadata": {
    "papermill": {
     "duration": 0.028835,
     "end_time": "2022-11-20T14:03:08.263156",
     "exception": false,
     "start_time": "2022-11-20T14:03:08.234321",
     "status": "completed"
    },
    "tags": []
   },
   "source": [
    "#### Observations :\n",
    "\n",
    "Here we can see **Antifungal, Opiod Analgesics, Oral Hypoglycemeics** is the Drug Class with **heighest count of Drugs**\n"
   ]
  },
  {
   "cell_type": "markdown",
   "id": "287166d2",
   "metadata": {
    "papermill": {
     "duration": 0.028924,
     "end_time": "2022-11-20T14:03:08.321006",
     "exception": false,
     "start_time": "2022-11-20T14:03:08.292082",
     "status": "completed"
    },
    "tags": []
   },
   "source": [
    "### -- How many Conditions are suffered by patients?"
   ]
  },
  {
   "cell_type": "code",
   "execution_count": 29,
   "id": "d706a1fe",
   "metadata": {
    "execution": {
     "iopub.execute_input": "2022-11-20T14:03:08.381320Z",
     "iopub.status.busy": "2022-11-20T14:03:08.380462Z",
     "iopub.status.idle": "2022-11-20T14:03:08.395945Z",
     "shell.execute_reply": "2022-11-20T14:03:08.394728Z"
    },
    "papermill": {
     "duration": 0.048609,
     "end_time": "2022-11-20T14:03:08.398543",
     "exception": false,
     "start_time": "2022-11-20T14:03:08.349934",
     "status": "completed"
    },
    "tags": []
   },
   "outputs": [
    {
     "data": {
      "text/plain": [
       "885"
      ]
     },
     "execution_count": 29,
     "metadata": {},
     "output_type": "execute_result"
    }
   ],
   "source": [
    "len(df['condition'].unique().tolist())"
   ]
  },
  {
   "cell_type": "markdown",
   "id": "dc46d7ea",
   "metadata": {
    "papermill": {
     "duration": 0.028979,
     "end_time": "2022-11-20T14:03:08.456252",
     "exception": false,
     "start_time": "2022-11-20T14:03:08.427273",
     "status": "completed"
    },
    "tags": []
   },
   "source": [
    "#### Observation :\n",
    "\n",
    "+ We have 885 different conditions"
   ]
  },
  {
   "cell_type": "code",
   "execution_count": 30,
   "id": "d483c296",
   "metadata": {
    "execution": {
     "iopub.execute_input": "2022-11-20T14:03:08.515334Z",
     "iopub.status.busy": "2022-11-20T14:03:08.514881Z",
     "iopub.status.idle": "2022-11-20T14:03:08.533802Z",
     "shell.execute_reply": "2022-11-20T14:03:08.532783Z"
    },
    "papermill": {
     "duration": 0.051574,
     "end_time": "2022-11-20T14:03:08.536231",
     "exception": false,
     "start_time": "2022-11-20T14:03:08.484657",
     "status": "completed"
    },
    "tags": []
   },
   "outputs": [
    {
     "data": {
      "text/plain": [
       "Birth Control                                  28788\n",
       "Depression                                      9069\n",
       "Pain                                            6145\n",
       "Anxiety                                         5904\n",
       "Acne                                            5588\n",
       "                                               ...  \n",
       "Ehrlichiosis                                       1\n",
       "Meningitis, Meningococcal                          1\n",
       "63</span> users found this comment helpful.        1\n",
       "54</span> users found this comment helpful.        1\n",
       "Hemangioma                                         1\n",
       "Name: condition, Length: 884, dtype: int64"
      ]
     },
     "execution_count": 30,
     "metadata": {},
     "output_type": "execute_result"
    }
   ],
   "source": [
    "#### Distribution of Conditions\n",
    "df['condition'].value_counts()"
   ]
  },
  {
   "cell_type": "markdown",
   "id": "7b600e19",
   "metadata": {
    "papermill": {
     "duration": 0.029362,
     "end_time": "2022-11-20T14:03:08.597273",
     "exception": false,
     "start_time": "2022-11-20T14:03:08.567911",
     "status": "completed"
    },
    "tags": []
   },
   "source": [
    "### -- Most common condition suffered"
   ]
  },
  {
   "cell_type": "code",
   "execution_count": 31,
   "id": "a02af788",
   "metadata": {
    "execution": {
     "iopub.execute_input": "2022-11-20T14:03:08.657321Z",
     "iopub.status.busy": "2022-11-20T14:03:08.656833Z",
     "iopub.status.idle": "2022-11-20T14:03:08.672338Z",
     "shell.execute_reply": "2022-11-20T14:03:08.671300Z"
    },
    "papermill": {
     "duration": 0.04847,
     "end_time": "2022-11-20T14:03:08.674724",
     "exception": false,
     "start_time": "2022-11-20T14:03:08.626254",
     "status": "completed"
    },
    "tags": []
   },
   "outputs": [],
   "source": [
    "#### Most commonest Conditions\n",
    "common_conditions = df['condition'].value_counts().nlargest(20)"
   ]
  },
  {
   "cell_type": "code",
   "execution_count": 32,
   "id": "840739ca",
   "metadata": {
    "execution": {
     "iopub.execute_input": "2022-11-20T14:03:08.734281Z",
     "iopub.status.busy": "2022-11-20T14:03:08.733802Z",
     "iopub.status.idle": "2022-11-20T14:03:08.740678Z",
     "shell.execute_reply": "2022-11-20T14:03:08.739417Z"
    },
    "papermill": {
     "duration": 0.039581,
     "end_time": "2022-11-20T14:03:08.743133",
     "exception": false,
     "start_time": "2022-11-20T14:03:08.703552",
     "status": "completed"
    },
    "tags": []
   },
   "outputs": [],
   "source": [
    "# Change the Variable Name\n",
    "new = pd.DataFrame({'drug_class':common_conditions.index,'counts':common_conditions.values})"
   ]
  },
  {
   "cell_type": "code",
   "execution_count": 33,
   "id": "deb70c0c",
   "metadata": {
    "execution": {
     "iopub.execute_input": "2022-11-20T14:03:08.805332Z",
     "iopub.status.busy": "2022-11-20T14:03:08.804020Z",
     "iopub.status.idle": "2022-11-20T14:03:09.323494Z",
     "shell.execute_reply": "2022-11-20T14:03:09.322142Z"
    },
    "papermill": {
     "duration": 0.55356,
     "end_time": "2022-11-20T14:03:09.326221",
     "exception": false,
     "start_time": "2022-11-20T14:03:08.772661",
     "status": "completed"
    },
    "tags": []
   },
   "outputs": [
    {
     "data": {
      "image/png": "[encoded data removed]",
      "text/plain": [
       "<Figure size 1440x720 with 1 Axes>"
      ]
     },
     "metadata": {
      "needs_background": "light"
     },
     "output_type": "display_data"
    }
   ],
   "source": [
    "#### Most commonest Conditions\n",
    "plt.figure(figsize=(20,10))\n",
    "\n",
    "sns_1 = sns.barplot(data=new,x='drug_class',y='counts', palette = 'Blues_r')\n",
    "    \n",
    "sns_1.set_title('Most suffered Conditions', fontsize=20)\n",
    "sns_1.set_xlabel(\"Rating\")\n",
    "sns_1.set_xlabel(\"Different Conditions\")\n",
    "plt.setp(sns_1.get_xticklabels(), rotation=90)\n",
    "plt.show()"
   ]
  },
  {
   "cell_type": "markdown",
   "id": "3bf0347d",
   "metadata": {
    "papermill": {
     "duration": 0.029514,
     "end_time": "2022-11-20T14:03:09.385748",
     "exception": false,
     "start_time": "2022-11-20T14:03:09.356234",
     "status": "completed"
    },
    "tags": []
   },
   "source": [
    "#### Observations :\n",
    "+ The most commonest condition is **Birth Control**,followed by **Depression** and **Pain and Anxiety**\n",
    "+ Makes sense as compared to the drug distribution"
   ]
  },
  {
   "cell_type": "markdown",
   "id": "497a6c4d",
   "metadata": {
    "papermill": {
     "duration": 0.029263,
     "end_time": "2022-11-20T14:03:09.444501",
     "exception": false,
     "start_time": "2022-11-20T14:03:09.415238",
     "status": "completed"
    },
    "tags": []
   },
   "source": [
    "### -- Least common Condition suffered"
   ]
  },
  {
   "cell_type": "code",
   "execution_count": 34,
   "id": "5d4c3e79",
   "metadata": {
    "execution": {
     "iopub.execute_input": "2022-11-20T14:03:09.505765Z",
     "iopub.status.busy": "2022-11-20T14:03:09.505300Z",
     "iopub.status.idle": "2022-11-20T14:03:09.524175Z",
     "shell.execute_reply": "2022-11-20T14:03:09.522983Z"
    },
    "papermill": {
     "duration": 0.052375,
     "end_time": "2022-11-20T14:03:09.526388",
     "exception": false,
     "start_time": "2022-11-20T14:03:09.474013",
     "status": "completed"
    },
    "tags": []
   },
   "outputs": [
    {
     "data": {
      "text/plain": [
       "Giant Cell Tumor of Bone                        1\n",
       "Schilling Test                                  1\n",
       "Syringomyelia                                   1\n",
       "Mycoplasma Pneumonia                            1\n",
       "Thyrotoxicosis                                  1\n",
       "110</span> users found this comment helpful.    1\n",
       "61</span> users found this comment helpful.     1\n",
       "Hepatitis B Prevention                          1\n",
       "84</span> users found this comment helpful.     1\n",
       "Legionella Pneumonia                            1\n",
       "Sepsis                                          1\n",
       "Asystole                                        1\n",
       "Cachexia                                        1\n",
       "145</span> users found this comment helpful.    1\n",
       "ungal Infection Prophylaxis                     1\n",
       "Upper Limb Spasticity                           1\n",
       "Pseudogout, Prophylaxis                         1\n",
       "Portal Hypertension                             1\n",
       "Short Stature for Age                           1\n",
       "Acetaminophen Overdose                          1\n",
       "Name: condition, dtype: int64"
      ]
     },
     "execution_count": 34,
     "metadata": {},
     "output_type": "execute_result"
    }
   ],
   "source": [
    "df['condition'].value_counts().nsmallest(20)"
   ]
  },
  {
   "cell_type": "code",
   "execution_count": 35,
   "id": "6610971c",
   "metadata": {
    "execution": {
     "iopub.execute_input": "2022-11-20T14:03:09.598002Z",
     "iopub.status.busy": "2022-11-20T14:03:09.596989Z",
     "iopub.status.idle": "2022-11-20T14:03:10.041890Z",
     "shell.execute_reply": "2022-11-20T14:03:10.040591Z"
    },
    "papermill": {
     "duration": 0.488274,
     "end_time": "2022-11-20T14:03:10.044650",
     "exception": false,
     "start_time": "2022-11-20T14:03:09.556376",
     "status": "completed"
    },
    "tags": []
   },
   "outputs": [
    {
     "data": {
      "image/png": "[encoded data removed]",
      "text/plain": [
       "<Figure size 1440x720 with 1 Axes>"
      ]
     },
     "metadata": {
      "needs_background": "light"
     },
     "output_type": "display_data"
    }
   ],
   "source": [
    "#### Least commonest Conditions\n",
    "df['condition'].value_counts().nsmallest(20).plot(kind='bar',figsize=(20,10))\n",
    "plt.title(' Least common Condition suffered', fontsize=20)\n",
    "plt.show()"
   ]
  },
  {
   "cell_type": "markdown",
   "id": "73ad9da4",
   "metadata": {
    "papermill": {
     "duration": 0.030755,
     "end_time": "2022-11-20T14:03:10.106497",
     "exception": false,
     "start_time": "2022-11-20T14:03:10.075742",
     "status": "completed"
    },
    "tags": []
   },
   "source": [
    "### -- How many type of Drugs per condition (Top 20)"
   ]
  },
  {
   "cell_type": "code",
   "execution_count": 36,
   "id": "79c8e3d7",
   "metadata": {
    "execution": {
     "iopub.execute_input": "2022-11-20T14:03:10.172541Z",
     "iopub.status.busy": "2022-11-20T14:03:10.172106Z",
     "iopub.status.idle": "2022-11-20T14:03:10.234537Z",
     "shell.execute_reply": "2022-11-20T14:03:10.232974Z"
    },
    "papermill": {
     "duration": 0.099982,
     "end_time": "2022-11-20T14:03:10.237752",
     "exception": false,
     "start_time": "2022-11-20T14:03:10.137770",
     "status": "completed"
    },
    "tags": []
   },
   "outputs": [],
   "source": [
    "drug_per_cond = df.groupby('condition')['drugName'].nunique().nlargest(20)"
   ]
  },
  {
   "cell_type": "code",
   "execution_count": 37,
   "id": "158a29b8",
   "metadata": {
    "execution": {
     "iopub.execute_input": "2022-11-20T14:03:10.303633Z",
     "iopub.status.busy": "2022-11-20T14:03:10.303179Z",
     "iopub.status.idle": "2022-11-20T14:03:10.309781Z",
     "shell.execute_reply": "2022-11-20T14:03:10.308574Z"
    },
    "papermill": {
     "duration": 0.042065,
     "end_time": "2022-11-20T14:03:10.312380",
     "exception": false,
     "start_time": "2022-11-20T14:03:10.270315",
     "status": "completed"
    },
    "tags": []
   },
   "outputs": [],
   "source": [
    "drug_per_cond_df = pd.DataFrame({'drug_class':drug_per_cond.index,'counts':drug_per_cond.values})"
   ]
  },
  {
   "cell_type": "code",
   "execution_count": 38,
   "id": "81180db3",
   "metadata": {
    "execution": {
     "iopub.execute_input": "2022-11-20T14:03:10.378039Z",
     "iopub.status.busy": "2022-11-20T14:03:10.377578Z",
     "iopub.status.idle": "2022-11-20T14:03:10.893698Z",
     "shell.execute_reply": "2022-11-20T14:03:10.892401Z"
    },
    "papermill": {
     "duration": 0.551861,
     "end_time": "2022-11-20T14:03:10.896562",
     "exception": false,
     "start_time": "2022-11-20T14:03:10.344701",
     "status": "completed"
    },
    "tags": []
   },
   "outputs": [
    {
     "data": {
      "image/png": "[encoded data removed]",
      "text/plain": [
       "<Figure size 1440x720 with 1 Axes>"
      ]
     },
     "metadata": {
      "needs_background": "light"
     },
     "output_type": "display_data"
    }
   ],
   "source": [
    "# How many Drugs per condition (Top 20)\n",
    "plt.figure(figsize=(20,10))\n",
    "\n",
    "sns_1 = sns.barplot(data=drug_per_cond_df,x='drug_class',y='counts', palette = 'Blues_r')\n",
    "    \n",
    "sns_1.set_title('Type of Drugs per condition', fontsize=20)\n",
    "sns_1.set_xlabel(\"Drug Class\")\n",
    "sns_1.set_ylabel(\"Count\")\n",
    "plt.setp(sns_1.get_xticklabels(), rotation=90)\n",
    "plt.show()"
   ]
  },
  {
   "cell_type": "markdown",
   "id": "d89ab496",
   "metadata": {
    "papermill": {
     "duration": 0.03194,
     "end_time": "2022-11-20T14:03:10.961164",
     "exception": false,
     "start_time": "2022-11-20T14:03:10.929224",
     "status": "completed"
    },
    "tags": []
   },
   "source": [
    "#### Observation :\n",
    "\n",
    "+ **Pain, Birth Control** and **HBP** have the highest number of different/unique drugs for their condition\n"
   ]
  },
  {
   "cell_type": "markdown",
   "id": "9236e43b",
   "metadata": {
    "papermill": {
     "duration": 0.032122,
     "end_time": "2022-11-20T14:03:11.025603",
     "exception": false,
     "start_time": "2022-11-20T14:03:10.993481",
     "status": "completed"
    },
    "tags": []
   },
   "source": [
    "### -- Distrubtion of Rating given by Users"
   ]
  },
  {
   "cell_type": "code",
   "execution_count": 39,
   "id": "d20df904",
   "metadata": {
    "execution": {
     "iopub.execute_input": "2022-11-20T14:03:11.091892Z",
     "iopub.status.busy": "2022-11-20T14:03:11.091463Z",
     "iopub.status.idle": "2022-11-20T14:03:11.358996Z",
     "shell.execute_reply": "2022-11-20T14:03:11.357973Z"
    },
    "papermill": {
     "duration": 0.304019,
     "end_time": "2022-11-20T14:03:11.361684",
     "exception": false,
     "start_time": "2022-11-20T14:03:11.057665",
     "status": "completed"
    },
    "tags": []
   },
   "outputs": [
    {
     "data": {
      "image/png": "[encoded data removed]",
      "text/plain": [
       "<Figure size 1440x720 with 1 Axes>"
      ]
     },
     "metadata": {
      "needs_background": "light"
     },
     "output_type": "display_data"
    }
   ],
   "source": [
    "plt.figure(figsize=(20,10))\n",
    "df['rating'].hist()\n",
    "plt.title(\"Distrubtion of Rating By Size Using Histogram\", fontsize=20)\n",
    "plt.show()"
   ]
  },
  {
   "cell_type": "markdown",
   "id": "31d8d49c",
   "metadata": {
    "papermill": {
     "duration": 0.032668,
     "end_time": "2022-11-20T14:03:11.427155",
     "exception": false,
     "start_time": "2022-11-20T14:03:11.394487",
     "status": "completed"
    },
    "tags": []
   },
   "source": [
    "#### Observation :\n",
    "+ Most people rated at the **extremes i.e (0 and 10)**"
   ]
  },
  {
   "cell_type": "markdown",
   "id": "1976dafa",
   "metadata": {
    "papermill": {
     "duration": 0.032014,
     "end_time": "2022-11-20T14:03:11.491953",
     "exception": false,
     "start_time": "2022-11-20T14:03:11.459939",
     "status": "completed"
    },
    "tags": []
   },
   "source": [
    "### -- Average Rating of Drugs"
   ]
  },
  {
   "cell_type": "code",
   "execution_count": 40,
   "id": "a8bdc486",
   "metadata": {
    "execution": {
     "iopub.execute_input": "2022-11-20T14:03:11.559457Z",
     "iopub.status.busy": "2022-11-20T14:03:11.557999Z",
     "iopub.status.idle": "2022-11-20T14:03:11.592834Z",
     "shell.execute_reply": "2022-11-20T14:03:11.591650Z"
    },
    "papermill": {
     "duration": 0.070791,
     "end_time": "2022-11-20T14:03:11.595272",
     "exception": false,
     "start_time": "2022-11-20T14:03:11.524481",
     "status": "completed"
    },
    "tags": []
   },
   "outputs": [
    {
     "data": {
      "text/plain": [
       "drugName\n",
       "A + D Cracked Skin Relief               10.000000\n",
       "A / B Otic                              10.000000\n",
       "Abacavir / dolutegravir / lamivudine     8.211538\n",
       "Abacavir / lamivudine / zidovudine       9.000000\n",
       "Abatacept                                7.157895\n",
       "                                          ...    \n",
       "Zyvox                                    9.000000\n",
       "ZzzQuil                                  2.500000\n",
       "depo-subQ provera 104                    1.000000\n",
       "ella                                     6.980392\n",
       "femhrt                                   4.000000\n",
       "Name: rating, Length: 3436, dtype: float64"
      ]
     },
     "execution_count": 40,
     "metadata": {},
     "output_type": "execute_result"
    }
   ],
   "source": [
    "# Average Rating of Drugs\n",
    "avg_rating = (df['rating'].groupby(df['drugName']).mean())\n",
    "avg_rating"
   ]
  },
  {
   "cell_type": "code",
   "execution_count": 41,
   "id": "1d37d376",
   "metadata": {
    "execution": {
     "iopub.execute_input": "2022-11-20T14:03:11.662006Z",
     "iopub.status.busy": "2022-11-20T14:03:11.660731Z",
     "iopub.status.idle": "2022-11-20T14:03:11.931944Z",
     "shell.execute_reply": "2022-11-20T14:03:11.931008Z"
    },
    "papermill": {
     "duration": 0.307303,
     "end_time": "2022-11-20T14:03:11.934564",
     "exception": false,
     "start_time": "2022-11-20T14:03:11.627261",
     "status": "completed"
    },
    "tags": []
   },
   "outputs": [
    {
     "data": {
      "image/png": "[encoded data removed]",
      "text/plain": [
       "<Figure size 1440x720 with 1 Axes>"
      ]
     },
     "metadata": {
      "needs_background": "light"
     },
     "output_type": "display_data"
    }
   ],
   "source": [
    "# Average Rating For All Drugs\n",
    "plt.figure(figsize=(20,10))\n",
    "avg_rating.hist()\n",
    "plt.title(\"Distrubtion of Average Rating For All Drugs\", fontsize=20)\n",
    "plt.show()"
   ]
  },
  {
   "cell_type": "markdown",
   "id": "d26f7635",
   "metadata": {
    "papermill": {
     "duration": 0.032382,
     "end_time": "2022-11-20T14:03:12.000234",
     "exception": false,
     "start_time": "2022-11-20T14:03:11.967852",
     "status": "completed"
    },
    "tags": []
   },
   "source": [
    "#### Observation :\n",
    "\n",
    "The **Majority of Rating** given by the users are **from 6 to 10**"
   ]
  },
  {
   "cell_type": "markdown",
   "id": "a3783434",
   "metadata": {
    "papermill": {
     "duration": 0.03246,
     "end_time": "2022-11-20T14:03:12.065008",
     "exception": false,
     "start_time": "2022-11-20T14:03:12.032548",
     "status": "completed"
    },
    "tags": []
   },
   "source": [
    "## Insights on Date Column :\n",
    "\n",
    "#### Transforming date columns"
   ]
  },
  {
   "cell_type": "code",
   "execution_count": 42,
   "id": "ff1e72af",
   "metadata": {
    "execution": {
     "iopub.execute_input": "2022-11-20T14:03:12.134084Z",
     "iopub.status.busy": "2022-11-20T14:03:12.132594Z",
     "iopub.status.idle": "2022-11-20T14:03:24.389420Z",
     "shell.execute_reply": "2022-11-20T14:03:24.387971Z"
    },
    "papermill": {
     "duration": 12.29429,
     "end_time": "2022-11-20T14:03:24.392385",
     "exception": false,
     "start_time": "2022-11-20T14:03:12.098095",
     "status": "completed"
    },
    "tags": []
   },
   "outputs": [],
   "source": [
    "# converting the date into datetime format\n",
    "df['date'] = pd.to_datetime(df['date'], errors = 'coerce')\n",
    "\n",
    "# extracting year from date\n",
    "df['Year'] = df['date'].dt.year\n",
    "\n",
    "# extracting the month from the date\n",
    "df['month'] = df['date'].dt.month\n",
    "\n",
    "# extracting the days from the date\n",
    "df['day'] = df['date'].dt.day"
   ]
  },
  {
   "cell_type": "markdown",
   "id": "fd944e26",
   "metadata": {
    "papermill": {
     "duration": 0.03431,
     "end_time": "2022-11-20T14:03:24.459813",
     "exception": false,
     "start_time": "2022-11-20T14:03:24.425503",
     "status": "completed"
    },
    "tags": []
   },
   "source": [
    "### -- Number of Reviews each Year"
   ]
  },
  {
   "cell_type": "code",
   "execution_count": 43,
   "id": "4de960c6",
   "metadata": {
    "execution": {
     "iopub.execute_input": "2022-11-20T14:03:24.532874Z",
     "iopub.status.busy": "2022-11-20T14:03:24.532385Z",
     "iopub.status.idle": "2022-11-20T14:03:24.923677Z",
     "shell.execute_reply": "2022-11-20T14:03:24.922765Z"
    },
    "papermill": {
     "duration": 0.431083,
     "end_time": "2022-11-20T14:03:24.926357",
     "exception": false,
     "start_time": "2022-11-20T14:03:24.495274",
     "status": "completed"
    },
    "tags": []
   },
   "outputs": [
    {
     "name": "stderr",
     "output_type": "stream",
     "text": [
      "C:\\Users\\Yogesh\\anaconda3\\lib\\site-packages\\seaborn\\_decorators.py:36: FutureWarning: Pass the following variable as a keyword arg: x. From version 0.12, the only valid positional argument will be `data`, and passing other arguments without an explicit keyword will result in an error or misinterpretation.\n",
      "  warnings.warn(\n"
     ]
    },
    {
     "data": {
      "image/png": "[encoded data removed]",
      "text/plain": [
       "<Figure size 1440x720 with 1 Axes>"
      ]
     },
     "metadata": {
      "needs_background": "light"
     },
     "output_type": "display_data"
    }
   ],
   "source": [
    "plt.figure(figsize=(20,10))\n",
    "sns_=sns.countplot(df['Year'], palette ='winter_r')\n",
    "    \n",
    "plt.title('The No. of Reviews each year', fontsize = 20)\n",
    "plt.xlabel('Year', fontsize = 15)\n",
    "plt.ylabel('Count of Reviews', fontsize = 15)\n",
    "plt.show()"
   ]
  },
  {
   "cell_type": "markdown",
   "id": "8e437b30",
   "metadata": {
    "papermill": {
     "duration": 0.035175,
     "end_time": "2022-11-20T14:03:24.998556",
     "exception": false,
     "start_time": "2022-11-20T14:03:24.963381",
     "status": "completed"
    },
    "tags": []
   },
   "source": [
    "#### Observations :\n",
    "\n",
    "From above plot we can see that **Year 2016 had the heighest number of reviews** followed by **Year 2017 and 2015**"
   ]
  },
  {
   "cell_type": "markdown",
   "id": "a5c77cbf",
   "metadata": {
    "papermill": {
     "duration": 0.034081,
     "end_time": "2022-11-20T14:03:25.066931",
     "exception": false,
     "start_time": "2022-11-20T14:03:25.032850",
     "status": "completed"
    },
    "tags": []
   },
   "source": [
    "### -- Number of Reviews each Month"
   ]
  },
  {
   "cell_type": "code",
   "execution_count": 44,
   "id": "af19286b",
   "metadata": {
    "execution": {
     "iopub.execute_input": "2022-11-20T14:03:25.136292Z",
     "iopub.status.busy": "2022-11-20T14:03:25.135350Z",
     "iopub.status.idle": "2022-11-20T14:03:25.517266Z",
     "shell.execute_reply": "2022-11-20T14:03:25.515863Z"
    },
    "papermill": {
     "duration": 0.419693,
     "end_time": "2022-11-20T14:03:25.520113",
     "exception": false,
     "start_time": "2022-11-20T14:03:25.100420",
     "status": "completed"
    },
    "tags": []
   },
   "outputs": [
    {
     "name": "stderr",
     "output_type": "stream",
     "text": [
      "C:\\Users\\Yogesh\\anaconda3\\lib\\site-packages\\seaborn\\_decorators.py:36: FutureWarning: Pass the following variable as a keyword arg: x. From version 0.12, the only valid positional argument will be `data`, and passing other arguments without an explicit keyword will result in an error or misinterpretation.\n",
      "  warnings.warn(\n"
     ]
    },
    {
     "data": {
      "image/png": "[encoded data removed]",
      "text/plain": [
       "<Figure size 1440x720 with 1 Axes>"
      ]
     },
     "metadata": {
      "needs_background": "light"
     },
     "output_type": "display_data"
    }
   ],
   "source": [
    "plt.figure(figsize=(20,10))\n",
    "sns_=sns.countplot(df['month'], palette ='magma')\n",
    "\n",
    "\n",
    "plt.title('The No. of Reviews each Month', fontsize = 25)\n",
    "plt.xlabel('Months', fontsize = 15)\n",
    "plt.ylabel('Ratings', fontsize = 15)\n",
    "plt.show()"
   ]
  },
  {
   "cell_type": "markdown",
   "id": "86b87316",
   "metadata": {
    "papermill": {
     "duration": 0.035387,
     "end_time": "2022-11-20T14:03:25.592038",
     "exception": false,
     "start_time": "2022-11-20T14:03:25.556651",
     "status": "completed"
    },
    "tags": []
   },
   "source": [
    "#### Observations :\n",
    "\n",
    "**August** month has the heighest reviwes **followed by October** month."
   ]
  },
  {
   "cell_type": "code",
   "execution_count": 45,
   "id": "0e05997e",
   "metadata": {
    "execution": {
     "iopub.execute_input": "2022-11-20T14:03:25.667405Z",
     "iopub.status.busy": "2022-11-20T14:03:25.666189Z",
     "iopub.status.idle": "2022-11-20T14:03:26.283552Z",
     "shell.execute_reply": "2022-11-20T14:03:26.282512Z"
    },
    "papermill": {
     "duration": 0.657523,
     "end_time": "2022-11-20T14:03:26.285868",
     "exception": false,
     "start_time": "2022-11-20T14:03:25.628345",
     "status": "completed"
    },
    "tags": []
   },
   "outputs": [
    {
     "name": "stderr",
     "output_type": "stream",
     "text": [
      "C:\\Users\\Yogesh\\anaconda3\\lib\\site-packages\\seaborn\\_decorators.py:36: FutureWarning: Pass the following variable as a keyword arg: x. From version 0.12, the only valid positional argument will be `data`, and passing other arguments without an explicit keyword will result in an error or misinterpretation.\n",
      "  warnings.warn(\n"
     ]
    },
    {
     "data": {
      "image/png": "[encoded data removed]",
      "text/plain": [
       "<Figure size 1440x720 with 1 Axes>"
      ]
     },
     "metadata": {
      "needs_background": "light"
     },
     "output_type": "display_data"
    }
   ],
   "source": [
    "plt.figure(figsize=(20,10))\n",
    "sns_=sns.countplot(df['day'], palette ='tab20c')\n",
    "\n",
    "    \n",
    "plt.title('The No. of Reviews each day', fontsize = 22)\n",
    "plt.xlabel('Days', fontsize = 15)\n",
    "plt.ylabel('Count of Reviews', fontsize = 15)\n",
    "plt.show()"
   ]
  },
  {
   "cell_type": "markdown",
   "id": "f0535407",
   "metadata": {
    "papermill": {
     "duration": 0.038626,
     "end_time": "2022-11-20T14:03:26.362663",
     "exception": false,
     "start_time": "2022-11-20T14:03:26.324037",
     "status": "completed"
    },
    "tags": []
   },
   "source": [
    "### -- How genuine is the review? (Using sentiment analysis)"
   ]
  },
  {
   "cell_type": "code",
   "execution_count": 46,
   "id": "6a6394ee",
   "metadata": {
    "execution": {
     "iopub.execute_input": "2022-11-20T14:03:26.443128Z",
     "iopub.status.busy": "2022-11-20T14:03:26.442385Z",
     "iopub.status.idle": "2022-11-20T14:03:26.446909Z",
     "shell.execute_reply": "2022-11-20T14:03:26.446105Z"
    },
    "papermill": {
     "duration": 0.046612,
     "end_time": "2022-11-20T14:03:26.449181",
     "exception": false,
     "start_time": "2022-11-20T14:03:26.402569",
     "status": "completed"
    },
    "tags": []
   },
   "outputs": [],
   "source": [
    "from textblob import TextBlob"
   ]
  },
  {
   "cell_type": "code",
   "execution_count": 47,
   "id": "305c9740",
   "metadata": {
    "execution": {
     "iopub.execute_input": "2022-11-20T14:03:26.523137Z",
     "iopub.status.busy": "2022-11-20T14:03:26.521851Z",
     "iopub.status.idle": "2022-11-20T14:03:26.530479Z",
     "shell.execute_reply": "2022-11-20T14:03:26.529579Z"
    },
    "papermill": {
     "duration": 0.047629,
     "end_time": "2022-11-20T14:03:26.532853",
     "exception": false,
     "start_time": "2022-11-20T14:03:26.485224",
     "status": "completed"
    },
    "tags": []
   },
   "outputs": [
    {
     "data": {
      "text/plain": [
       "0    \"It has no side effect, I take it in combinati...\n",
       "1    \"My son is halfway through his fourth week of ...\n",
       "2    \"I used to take another oral contraceptive, wh...\n",
       "3    \"This is my first time using any form of birth...\n",
       "4    \"Suboxone has completely turned my life around...\n",
       "Name: review, dtype: object"
      ]
     },
     "execution_count": 47,
     "metadata": {},
     "output_type": "execute_result"
    }
   ],
   "source": [
    "df['review'].head()"
   ]
  },
  {
   "cell_type": "code",
   "execution_count": 48,
   "id": "096e71f2",
   "metadata": {
    "execution": {
     "iopub.execute_input": "2022-11-20T14:03:26.609998Z",
     "iopub.status.busy": "2022-11-20T14:03:26.609178Z",
     "iopub.status.idle": "2022-11-20T14:03:26.615334Z",
     "shell.execute_reply": "2022-11-20T14:03:26.614400Z"
    },
    "papermill": {
     "duration": 0.046208,
     "end_time": "2022-11-20T14:03:26.617656",
     "exception": false,
     "start_time": "2022-11-20T14:03:26.571448",
     "status": "completed"
    },
    "tags": []
   },
   "outputs": [],
   "source": [
    "def get_sentiment(text):\n",
    "    blob = TextBlob(text)\n",
    "    return blob.polarity\n",
    "\n",
    "def get_sentiment_label(text):\n",
    "    blob = TextBlob(text)\n",
    "    if blob.polarity > 0:\n",
    "        result = 'positive'\n",
    "    elif blob.polarity < 0:\n",
    "        result = 'negative'\n",
    "    else:\n",
    "        result = 'neutral'\n",
    "    return result"
   ]
  },
  {
   "cell_type": "code",
   "execution_count": 49,
   "id": "d33f39ca",
   "metadata": {
    "execution": {
     "iopub.execute_input": "2022-11-20T14:03:26.690404Z",
     "iopub.status.busy": "2022-11-20T14:03:26.689557Z",
     "iopub.status.idle": "2022-11-20T14:03:26.749506Z",
     "shell.execute_reply": "2022-11-20T14:03:26.748125Z"
    },
    "papermill": {
     "duration": 0.099407,
     "end_time": "2022-11-20T14:03:26.752033",
     "exception": false,
     "start_time": "2022-11-20T14:03:26.652626",
     "status": "completed"
    },
    "tags": []
   },
   "outputs": [
    {
     "data": {
      "text/plain": [
       "0.5"
      ]
     },
     "execution_count": 49,
     "metadata": {},
     "output_type": "execute_result"
    }
   ],
   "source": [
    "# text fxn\n",
    "get_sentiment(\"I love apples\")"
   ]
  },
  {
   "cell_type": "code",
   "execution_count": 50,
   "id": "bf54c567",
   "metadata": {
    "execution": {
     "iopub.execute_input": "2022-11-20T14:03:26.825983Z",
     "iopub.status.busy": "2022-11-20T14:03:26.825555Z",
     "iopub.status.idle": "2022-11-20T14:03:26.833382Z",
     "shell.execute_reply": "2022-11-20T14:03:26.831948Z"
    },
    "papermill": {
     "duration": 0.047712,
     "end_time": "2022-11-20T14:03:26.835671",
     "exception": false,
     "start_time": "2022-11-20T14:03:26.787959",
     "status": "completed"
    },
    "tags": []
   },
   "outputs": [
    {
     "data": {
      "text/plain": [
       "'positive'"
      ]
     },
     "execution_count": 50,
     "metadata": {},
     "output_type": "execute_result"
    }
   ],
   "source": [
    "# text fxn\n",
    "get_sentiment_label(\"I love apples\")"
   ]
  },
  {
   "cell_type": "code",
   "execution_count": 51,
   "id": "94cf8d2d",
   "metadata": {
    "execution": {
     "iopub.execute_input": "2022-11-20T14:03:26.910236Z",
     "iopub.status.busy": "2022-11-20T14:03:26.909722Z",
     "iopub.status.idle": "2022-11-20T14:05:31.699682Z",
     "shell.execute_reply": "2022-11-20T14:05:31.698032Z"
    },
    "papermill": {
     "duration": 124.832039,
     "end_time": "2022-11-20T14:05:31.703071",
     "exception": false,
     "start_time": "2022-11-20T14:03:26.871032",
     "status": "completed"
    },
    "tags": []
   },
   "outputs": [],
   "source": [
    "# Sentiment Score for Review\n",
    "df['sentiment'] = df['review'].apply(get_sentiment)"
   ]
  },
  {
   "cell_type": "code",
   "execution_count": 52,
   "id": "bc797326",
   "metadata": {
    "execution": {
     "iopub.execute_input": "2022-11-20T14:05:31.781603Z",
     "iopub.status.busy": "2022-11-20T14:05:31.781114Z",
     "iopub.status.idle": "2022-11-20T14:07:39.521573Z",
     "shell.execute_reply": "2022-11-20T14:07:39.519971Z"
    },
    "papermill": {
     "duration": 127.783166,
     "end_time": "2022-11-20T14:07:39.525209",
     "exception": false,
     "start_time": "2022-11-20T14:05:31.742043",
     "status": "completed"
    },
    "tags": []
   },
   "outputs": [],
   "source": [
    "# Sentiment Labels for Review\n",
    "df['sentiment_label'] = df['review'].apply(get_sentiment_label)"
   ]
  },
  {
   "cell_type": "code",
   "execution_count": 54,
   "id": "08086df1",
   "metadata": {
    "execution": {
     "iopub.execute_input": "2022-11-20T14:07:39.600273Z",
     "iopub.status.busy": "2022-11-20T14:07:39.599820Z",
     "iopub.status.idle": "2022-11-20T14:07:39.656490Z",
     "shell.execute_reply": "2022-11-20T14:07:39.655176Z"
    },
    "papermill": {
     "duration": 0.09708,
     "end_time": "2022-11-20T14:07:39.659386",
     "exception": false,
     "start_time": "2022-11-20T14:07:39.562306",
     "status": "completed"
    },
    "tags": []
   },
   "outputs": [
    {
     "data": {
      "text/html": [
       "<div>\n",
       "<style scoped>\n",
       "    .dataframe tbody tr th:only-of-type {\n",
       "        vertical-align: middle;\n",
       "    }\n",
       "\n",
       "    .dataframe tbody tr th {\n",
       "        vertical-align: top;\n",
       "    }\n",
       "\n",
       "    .dataframe thead th {\n",
       "        text-align: right;\n",
       "    }\n",
       "</style>\n",
       "<table border=\"1\" class=\"dataframe\">\n",
       "  <thead>\n",
       "    <tr style=\"text-align: right;\">\n",
       "      <th></th>\n",
       "      <th>review</th>\n",
       "      <th>sentiment</th>\n",
       "      <th>sentiment_label</th>\n",
       "    </tr>\n",
       "  </thead>\n",
       "  <tbody>\n",
       "    <tr>\n",
       "      <th>0</th>\n",
       "      <td>\"It has no side effect, I take it in combinati...</td>\n",
       "      <td>0.000000</td>\n",
       "      <td>neutral</td>\n",
       "    </tr>\n",
       "    <tr>\n",
       "      <th>1</th>\n",
       "      <td>\"My son is halfway through his fourth week of ...</td>\n",
       "      <td>0.168333</td>\n",
       "      <td>positive</td>\n",
       "    </tr>\n",
       "    <tr>\n",
       "      <th>2</th>\n",
       "      <td>\"I used to take another oral contraceptive, wh...</td>\n",
       "      <td>0.067210</td>\n",
       "      <td>positive</td>\n",
       "    </tr>\n",
       "    <tr>\n",
       "      <th>3</th>\n",
       "      <td>\"This is my first time using any form of birth...</td>\n",
       "      <td>0.179545</td>\n",
       "      <td>positive</td>\n",
       "    </tr>\n",
       "    <tr>\n",
       "      <th>4</th>\n",
       "      <td>\"Suboxone has completely turned my life around...</td>\n",
       "      <td>0.194444</td>\n",
       "      <td>positive</td>\n",
       "    </tr>\n",
       "  </tbody>\n",
       "</table>\n",
       "</div>"
      ],
      "text/plain": [
       "                                              review  sentiment  \\\n",
       "0  \"It has no side effect, I take it in combinati...   0.000000   \n",
       "1  \"My son is halfway through his fourth week of ...   0.168333   \n",
       "2  \"I used to take another oral contraceptive, wh...   0.067210   \n",
       "3  \"This is my first time using any form of birth...   0.179545   \n",
       "4  \"Suboxone has completely turned my life around...   0.194444   \n",
       "\n",
       "  sentiment_label  \n",
       "0         neutral  \n",
       "1        positive  \n",
       "2        positive  \n",
       "3        positive  \n",
       "4        positive  "
      ]
     },
     "execution_count": 54,
     "metadata": {},
     "output_type": "execute_result"
    }
   ],
   "source": [
    "df[['review','sentiment','sentiment_label']].head()"
   ]
  },
  {
   "cell_type": "markdown",
   "id": "cff922da",
   "metadata": {
    "papermill": {
     "duration": 0.036963,
     "end_time": "2022-11-20T14:07:39.734182",
     "exception": false,
     "start_time": "2022-11-20T14:07:39.697219",
     "status": "completed"
    },
    "tags": []
   },
   "source": [
    "### -- How many positive and negative and neutral reviews?"
   ]
  },
  {
   "cell_type": "code",
   "execution_count": 55,
   "id": "3861fe65",
   "metadata": {
    "execution": {
     "iopub.execute_input": "2022-11-20T14:07:39.814218Z",
     "iopub.status.busy": "2022-11-20T14:07:39.812777Z",
     "iopub.status.idle": "2022-11-20T14:07:39.832280Z",
     "shell.execute_reply": "2022-11-20T14:07:39.830979Z"
    },
    "papermill": {
     "duration": 0.063546,
     "end_time": "2022-11-20T14:07:39.834805",
     "exception": false,
     "start_time": "2022-11-20T14:07:39.771259",
     "status": "completed"
    },
    "tags": []
   },
   "outputs": [
    {
     "data": {
      "text/plain": [
       "positive    101041\n",
       "negative     53303\n",
       "neutral       6953\n",
       "Name: sentiment_label, dtype: int64"
      ]
     },
     "execution_count": 55,
     "metadata": {},
     "output_type": "execute_result"
    }
   ],
   "source": [
    "df['sentiment_label'].value_counts()"
   ]
  },
  {
   "cell_type": "code",
   "execution_count": 56,
   "id": "2e4b68e4",
   "metadata": {
    "execution": {
     "iopub.execute_input": "2022-11-20T14:07:39.912139Z",
     "iopub.status.busy": "2022-11-20T14:07:39.911270Z",
     "iopub.status.idle": "2022-11-20T14:07:40.065681Z",
     "shell.execute_reply": "2022-11-20T14:07:40.063574Z"
    },
    "papermill": {
     "duration": 0.197978,
     "end_time": "2022-11-20T14:07:40.071167",
     "exception": false,
     "start_time": "2022-11-20T14:07:39.873189",
     "status": "completed"
    },
    "tags": []
   },
   "outputs": [
    {
     "data": {
      "image/png": "[encoded data removed]",
      "text/plain": [
       "<Figure size 864x432 with 1 Axes>"
      ]
     },
     "metadata": {},
     "output_type": "display_data"
    }
   ],
   "source": [
    "plt.figure(figsize=(12,6))\n",
    "\n",
    "def autopct_format(values):\n",
    "        def my_format(pct):\n",
    "            total = sum(values)\n",
    "            val = int(round(pct*total/100.0))\n",
    "            return '{:.1f}%\\n({v:d})'.format(pct, v=val)\n",
    "        return my_format\n",
    "\n",
    "s = df['sentiment_label'].value_counts()\n",
    "plt.pie(s,labels = s.index, autopct=autopct_format(s))\n",
    "plt.show()"
   ]
  },
  {
   "cell_type": "markdown",
   "id": "504da895",
   "metadata": {
    "papermill": {
     "duration": 0.036727,
     "end_time": "2022-11-20T14:07:40.177441",
     "exception": false,
     "start_time": "2022-11-20T14:07:40.140714",
     "status": "completed"
    },
    "tags": []
   },
   "source": [
    "#### Obserevation :\n",
    "\n",
    "We can see that Majority of reviews given by users are **Positive(62.6%)** and **Negative(33%)**, while **Neutral reviews are (4.3%)**"
   ]
  },
  {
   "cell_type": "markdown",
   "id": "f97fe1d9",
   "metadata": {
    "papermill": {
     "duration": 0.037282,
     "end_time": "2022-11-20T14:07:40.252700",
     "exception": false,
     "start_time": "2022-11-20T14:07:40.215418",
     "status": "completed"
    },
    "tags": []
   },
   "source": [
    "### -- Correlation Between Our sentiment and rating"
   ]
  },
  {
   "cell_type": "code",
   "execution_count": 57,
   "id": "d1a6da65",
   "metadata": {
    "execution": {
     "iopub.execute_input": "2022-11-20T14:07:40.329871Z",
     "iopub.status.busy": "2022-11-20T14:07:40.329371Z",
     "iopub.status.idle": "2022-11-20T14:07:42.690131Z",
     "shell.execute_reply": "2022-11-20T14:07:42.688785Z"
    },
    "papermill": {
     "duration": 2.402818,
     "end_time": "2022-11-20T14:07:42.692852",
     "exception": false,
     "start_time": "2022-11-20T14:07:40.290034",
     "status": "completed"
    },
    "tags": []
   },
   "outputs": [
    {
     "data": {
      "image/png": "[encoded data removed]",
      "text/plain": [
       "<Figure size 864x432 with 1 Axes>"
      ]
     },
     "metadata": {
      "needs_background": "light"
     },
     "output_type": "display_data"
    }
   ],
   "source": [
    "#### Correlation Between Our sentiment and rating\n",
    "plt.figure(figsize=(12,6))\n",
    "sns.lineplot(data=df,x='rating',y='sentiment')\n",
    "plt.show()"
   ]
  },
  {
   "cell_type": "code",
   "execution_count": 58,
   "id": "ac78401b",
   "metadata": {
    "execution": {
     "iopub.execute_input": "2022-11-20T14:07:42.772150Z",
     "iopub.status.busy": "2022-11-20T14:07:42.771661Z",
     "iopub.status.idle": "2022-11-20T14:07:45.811904Z",
     "shell.execute_reply": "2022-11-20T14:07:45.810461Z"
    },
    "papermill": {
     "duration": 3.082307,
     "end_time": "2022-11-20T14:07:45.814814",
     "exception": false,
     "start_time": "2022-11-20T14:07:42.732507",
     "status": "completed"
    },
    "tags": []
   },
   "outputs": [
    {
     "data": {
      "image/png": "[encoded data removed]",
      "text/plain": [
       "<Figure size 864x576 with 1 Axes>"
      ]
     },
     "metadata": {
      "needs_background": "light"
     },
     "output_type": "display_data"
    }
   ],
   "source": [
    "plt.figure(figsize=(12,8))\n",
    "sns.lineplot(data=df,x='rating',y='sentiment',hue='sentiment_label')\n",
    "plt.show()"
   ]
  },
  {
   "cell_type": "markdown",
   "id": "2806c701",
   "metadata": {
    "papermill": {
     "duration": 0.03788,
     "end_time": "2022-11-20T14:07:45.893068",
     "exception": false,
     "start_time": "2022-11-20T14:07:45.855188",
     "status": "completed"
    },
    "tags": []
   },
   "source": [
    "### Observation :\n",
    "* The positive Ratings are increasing gradually which indicates that the patients are getting better by the use of the prescribed Drugs\n",
    "* The Negative Ratings are decreasing which is a good sign that the Drugs given to patients are effective\n"
   ]
  },
  {
   "cell_type": "markdown",
   "id": "fd912c69",
   "metadata": {
    "papermill": {
     "duration": 0.039578,
     "end_time": "2022-11-20T14:07:45.974731",
     "exception": false,
     "start_time": "2022-11-20T14:07:45.935153",
     "status": "completed"
    },
    "tags": []
   },
   "source": [
    "### -- How many reviews are genuine as compared to the rating\n",
    "+ Genuine **good rating** =positive + rating 10-6\n",
    "+ Genuine **bad rating** = negative + rating 4-1"
   ]
  },
  {
   "cell_type": "code",
   "execution_count": 59,
   "id": "dc84a3fd",
   "metadata": {
    "execution": {
     "iopub.execute_input": "2022-11-20T14:07:46.054850Z",
     "iopub.status.busy": "2022-11-20T14:07:46.054409Z",
     "iopub.status.idle": "2022-11-20T14:07:46.089666Z",
     "shell.execute_reply": "2022-11-20T14:07:46.088125Z"
    },
    "papermill": {
     "duration": 0.078989,
     "end_time": "2022-11-20T14:07:46.092397",
     "exception": false,
     "start_time": "2022-11-20T14:07:46.013408",
     "status": "completed"
    },
    "tags": []
   },
   "outputs": [
    {
     "name": "stdout",
     "output_type": "stream",
     "text": [
      "According to Sentiment and Rating the number of Good Ratings are : 81044\n"
     ]
    }
   ],
   "source": [
    "# Genuine Good  Rating Per Review\n",
    "good_review =  len(df[(df['rating'] >= 6) & (df['sentiment_label'] == 'positive')])\n",
    "print('According to Sentiment and Rating the number of Good Ratings are :', good_review)"
   ]
  },
  {
   "cell_type": "code",
   "execution_count": 60,
   "id": "081dde4f",
   "metadata": {
    "execution": {
     "iopub.execute_input": "2022-11-20T14:07:46.171369Z",
     "iopub.status.busy": "2022-11-20T14:07:46.170906Z",
     "iopub.status.idle": "2022-11-20T14:07:46.199405Z",
     "shell.execute_reply": "2022-11-20T14:07:46.197863Z"
    },
    "papermill": {
     "duration": 0.071495,
     "end_time": "2022-11-20T14:07:46.201919",
     "exception": false,
     "start_time": "2022-11-20T14:07:46.130424",
     "status": "completed"
    },
    "tags": []
   },
   "outputs": [
    {
     "name": "stdout",
     "output_type": "stream",
     "text": [
      "According to Sentiment and Rating the number of Good Ratings are : 21995\n"
     ]
    }
   ],
   "source": [
    "# Genuine Bad  Rating Per Review\n",
    "bad_review = len(df[(df['rating'] <= 4) & (df['sentiment_label'] == 'negative')])\n",
    "print('According to Sentiment and Rating the number of Good Ratings are :', bad_review)"
   ]
  },
  {
   "cell_type": "code",
   "execution_count": 61,
   "id": "372bb83e",
   "metadata": {
    "execution": {
     "iopub.execute_input": "2022-11-20T14:07:46.285425Z",
     "iopub.status.busy": "2022-11-20T14:07:46.284352Z",
     "iopub.status.idle": "2022-11-20T14:07:46.290642Z",
     "shell.execute_reply": "2022-11-20T14:07:46.289381Z"
    },
    "papermill": {
     "duration": 0.050484,
     "end_time": "2022-11-20T14:07:46.293142",
     "exception": false,
     "start_time": "2022-11-20T14:07:46.242658",
     "status": "completed"
    },
    "tags": []
   },
   "outputs": [],
   "source": [
    "# df.groupby('drugName')['usefulCount'].value_counts()"
   ]
  },
  {
   "cell_type": "markdown",
   "id": "c195e3da",
   "metadata": {
    "papermill": {
     "duration": 0.039676,
     "end_time": "2022-11-20T14:07:46.372495",
     "exception": false,
     "start_time": "2022-11-20T14:07:46.332819",
     "status": "completed"
    },
    "tags": []
   },
   "source": [
    "### -- Top Drugs name Per UsefulCount"
   ]
  },
  {
   "cell_type": "code",
   "execution_count": 62,
   "id": "18779073",
   "metadata": {
    "execution": {
     "iopub.execute_input": "2022-11-20T14:07:46.456819Z",
     "iopub.status.busy": "2022-11-20T14:07:46.455992Z",
     "iopub.status.idle": "2022-11-20T14:07:46.519494Z",
     "shell.execute_reply": "2022-11-20T14:07:46.518128Z"
    },
    "papermill": {
     "duration": 0.108592,
     "end_time": "2022-11-20T14:07:46.522258",
     "exception": false,
     "start_time": "2022-11-20T14:07:46.413666",
     "status": "completed"
    },
    "tags": []
   },
   "outputs": [],
   "source": [
    "drug_usefulcount = df.groupby('drugName')['usefulCount'].nunique().nlargest(20)"
   ]
  },
  {
   "cell_type": "code",
   "execution_count": 63,
   "id": "9d52a572",
   "metadata": {
    "execution": {
     "iopub.execute_input": "2022-11-20T14:07:46.609322Z",
     "iopub.status.busy": "2022-11-20T14:07:46.608478Z",
     "iopub.status.idle": "2022-11-20T14:07:46.614932Z",
     "shell.execute_reply": "2022-11-20T14:07:46.613535Z"
    },
    "papermill": {
     "duration": 0.050166,
     "end_time": "2022-11-20T14:07:46.617527",
     "exception": false,
     "start_time": "2022-11-20T14:07:46.567361",
     "status": "completed"
    },
    "tags": []
   },
   "outputs": [],
   "source": [
    "drug_usefulcount_df = pd.DataFrame({'drug_name':drug_usefulcount.index,'counts':drug_usefulcount.values})"
   ]
  },
  {
   "cell_type": "code",
   "execution_count": 64,
   "id": "b1bf0e3b",
   "metadata": {
    "execution": {
     "iopub.execute_input": "2022-11-20T14:07:46.698259Z",
     "iopub.status.busy": "2022-11-20T14:07:46.697419Z",
     "iopub.status.idle": "2022-11-20T14:07:47.186450Z",
     "shell.execute_reply": "2022-11-20T14:07:47.185228Z"
    },
    "papermill": {
     "duration": 0.532662,
     "end_time": "2022-11-20T14:07:47.189282",
     "exception": false,
     "start_time": "2022-11-20T14:07:46.656620",
     "status": "completed"
    },
    "tags": []
   },
   "outputs": [
    {
     "data": {
      "image/png": "[encoded data removed]",
      "text/plain": [
       "<Figure size 1440x720 with 1 Axes>"
      ]
     },
     "metadata": {
      "needs_background": "light"
     },
     "output_type": "display_data"
    }
   ],
   "source": [
    "plt.figure(figsize=(20,10))\n",
    "\n",
    "sns_1 = sns.barplot(data=drug_usefulcount_df,x='drug_name',y='counts', palette = 'tab10')\n",
    "    \n",
    "sns_1.set_title('Top Drugs Per UsefulCount', fontsize=20)\n",
    "sns_1.set_xlabel(\"Drug Name\")\n",
    "sns_1.set_ylabel(\"Count\")\n",
    "plt.setp(sns_1.get_xticklabels(), rotation=90)\n",
    "plt.show()"
   ]
  },
  {
   "cell_type": "markdown",
   "id": "61ea301b",
   "metadata": {
    "papermill": {
     "duration": 0.040059,
     "end_time": "2022-11-20T14:07:47.273675",
     "exception": false,
     "start_time": "2022-11-20T14:07:47.233616",
     "status": "completed"
    },
    "tags": []
   },
   "source": [
    "### Observation :\n",
    "\n",
    "**Fluoxetine, Gabapentin** and **Bupropion** are the Drugs which are most useful for treating people"
   ]
  },
  {
   "cell_type": "markdown",
   "id": "8a27de04",
   "metadata": {
    "papermill": {
     "duration": 0.039479,
     "end_time": "2022-11-20T14:07:47.352866",
     "exception": false,
     "start_time": "2022-11-20T14:07:47.313387",
     "status": "completed"
    },
    "tags": []
   },
   "source": [
    "### -- Top Drug Class per UsefulCount"
   ]
  },
  {
   "cell_type": "code",
   "execution_count": 65,
   "id": "983fcfb5",
   "metadata": {
    "execution": {
     "iopub.execute_input": "2022-11-20T14:07:47.433374Z",
     "iopub.status.busy": "2022-11-20T14:07:47.432911Z",
     "iopub.status.idle": "2022-11-20T14:07:47.472616Z",
     "shell.execute_reply": "2022-11-20T14:07:47.471165Z"
    },
    "papermill": {
     "duration": 0.083937,
     "end_time": "2022-11-20T14:07:47.475914",
     "exception": false,
     "start_time": "2022-11-20T14:07:47.391977",
     "status": "completed"
    },
    "tags": []
   },
   "outputs": [],
   "source": [
    "# Top Drugs Class Per UsefulCount\n",
    "drug_class_usefulcount = df.groupby('drug_class')['usefulCount'].nunique().nlargest(20)"
   ]
  },
  {
   "cell_type": "code",
   "execution_count": 66,
   "id": "c06c4317",
   "metadata": {
    "execution": {
     "iopub.execute_input": "2022-11-20T14:07:47.558929Z",
     "iopub.status.busy": "2022-11-20T14:07:47.558397Z",
     "iopub.status.idle": "2022-11-20T14:07:47.565857Z",
     "shell.execute_reply": "2022-11-20T14:07:47.564821Z"
    },
    "papermill": {
     "duration": 0.052023,
     "end_time": "2022-11-20T14:07:47.568828",
     "exception": false,
     "start_time": "2022-11-20T14:07:47.516805",
     "status": "completed"
    },
    "tags": []
   },
   "outputs": [],
   "source": [
    "drug_class_usefulcount_df = pd.DataFrame({'drug_class':drug_class_usefulcount.index,'counts':drug_class_usefulcount.values})"
   ]
  },
  {
   "cell_type": "code",
   "execution_count": 67,
   "id": "d11dc448",
   "metadata": {
    "execution": {
     "iopub.execute_input": "2022-11-20T14:07:47.653478Z",
     "iopub.status.busy": "2022-11-20T14:07:47.652602Z",
     "iopub.status.idle": "2022-11-20T14:07:48.251116Z",
     "shell.execute_reply": "2022-11-20T14:07:48.249830Z"
    },
    "papermill": {
     "duration": 0.644556,
     "end_time": "2022-11-20T14:07:48.253849",
     "exception": false,
     "start_time": "2022-11-20T14:07:47.609293",
     "status": "completed"
    },
    "tags": []
   },
   "outputs": [
    {
     "data": {
      "image/png": "[encoded data removed]",
      "text/plain": [
       "<Figure size 1440x720 with 1 Axes>"
      ]
     },
     "metadata": {
      "needs_background": "light"
     },
     "output_type": "display_data"
    }
   ],
   "source": [
    "plt.figure(figsize=(20,10))\n",
    "\n",
    "sns_1 = sns.barplot(data=drug_class_usefulcount_df,x='drug_class',y='counts', palette = 'Blues_r')\n",
    "    \n",
    "sns_1.set_title('Top Drug Class per UsefulCount', fontsize=20)\n",
    "sns_1.set_xlabel(\"Drug Class\")\n",
    "sns_1.set_ylabel(\"Count\")\n",
    "plt.setp(sns_1.get_xticklabels(), rotation=90)\n",
    "plt.show()"
   ]
  },
  {
   "cell_type": "markdown",
   "id": "6f283b7d",
   "metadata": {
    "papermill": {
     "duration": 0.042094,
     "end_time": "2022-11-20T14:07:48.337130",
     "exception": false,
     "start_time": "2022-11-20T14:07:48.295036",
     "status": "completed"
    },
    "tags": []
   },
   "source": [
    "### Observations :\n",
    "\n",
    "**Opiod analgesics, anti-anxiety** and **oral hypoglycemics** are the top 3 Drug Classes used to treat the people"
   ]
  },
  {
   "cell_type": "markdown",
   "id": "3b8e861a",
   "metadata": {
    "papermill": {
     "duration": 0.040014,
     "end_time": "2022-11-20T14:07:48.417281",
     "exception": false,
     "start_time": "2022-11-20T14:07:48.377267",
     "status": "completed"
    },
    "tags": []
   },
   "source": [
    "### -- Least Useful Drug Class "
   ]
  },
  {
   "cell_type": "code",
   "execution_count": 68,
   "id": "917c0a50",
   "metadata": {
    "execution": {
     "iopub.execute_input": "2022-11-20T14:07:48.503173Z",
     "iopub.status.busy": "2022-11-20T14:07:48.502282Z",
     "iopub.status.idle": "2022-11-20T14:07:48.540351Z",
     "shell.execute_reply": "2022-11-20T14:07:48.538769Z"
    },
    "papermill": {
     "duration": 0.084822,
     "end_time": "2022-11-20T14:07:48.543365",
     "exception": false,
     "start_time": "2022-11-20T14:07:48.458543",
     "status": "completed"
    },
    "tags": []
   },
   "outputs": [],
   "source": [
    "# Top Drugs Class Per UsefulCount\n",
    "least_drug_class_usefulcount = df.groupby('drug_class')['usefulCount'].nunique().nsmallest(20)"
   ]
  },
  {
   "cell_type": "code",
   "execution_count": 69,
   "id": "54f2aa3f",
   "metadata": {
    "execution": {
     "iopub.execute_input": "2022-11-20T14:07:48.626227Z",
     "iopub.status.busy": "2022-11-20T14:07:48.625681Z",
     "iopub.status.idle": "2022-11-20T14:07:48.632105Z",
     "shell.execute_reply": "2022-11-20T14:07:48.631149Z"
    },
    "papermill": {
     "duration": 0.050211,
     "end_time": "2022-11-20T14:07:48.634306",
     "exception": false,
     "start_time": "2022-11-20T14:07:48.584095",
     "status": "completed"
    },
    "tags": []
   },
   "outputs": [],
   "source": [
    "least_drug_class_usefulcount_df = pd.DataFrame({'drug_class':least_drug_class_usefulcount.index,'counts':least_drug_class_usefulcount.values})"
   ]
  },
  {
   "cell_type": "code",
   "execution_count": 70,
   "id": "6bd089b0",
   "metadata": {
    "execution": {
     "iopub.execute_input": "2022-11-20T14:07:48.720039Z",
     "iopub.status.busy": "2022-11-20T14:07:48.719271Z",
     "iopub.status.idle": "2022-11-20T14:07:49.307865Z",
     "shell.execute_reply": "2022-11-20T14:07:49.306534Z"
    },
    "papermill": {
     "duration": 0.634263,
     "end_time": "2022-11-20T14:07:49.310880",
     "exception": false,
     "start_time": "2022-11-20T14:07:48.676617",
     "status": "completed"
    },
    "tags": []
   },
   "outputs": [
    {
     "data": {
      "image/png": "[encoded data removed]",
      "text/plain": [
       "<Figure size 1440x720 with 1 Axes>"
      ]
     },
     "metadata": {
      "needs_background": "light"
     },
     "output_type": "display_data"
    }
   ],
   "source": [
    "plt.figure(figsize=(20,10))\n",
    "\n",
    "sns_1 = sns.barplot(data=least_drug_class_usefulcount_df,x='drug_class',y='counts', palette = 'inferno')\n",
    "    \n",
    "sns_1.set_title('Least useful Drug Class', fontsize=20)\n",
    "sns_1.set_xlabel(\"Drug Class\")\n",
    "sns_1.set_ylabel(\"Count\")\n",
    "plt.setp(sns_1.get_xticklabels(), rotation=90)\n",
    "plt.show()"
   ]
  },
  {
   "cell_type": "markdown",
   "id": "18e3e6d3",
   "metadata": {
    "papermill": {
     "duration": 0.042448,
     "end_time": "2022-11-20T14:07:49.394891",
     "exception": false,
     "start_time": "2022-11-20T14:07:49.352443",
     "status": "completed"
    },
    "tags": []
   },
   "source": [
    "### Observation :\n",
    "\n",
    "**Anticoagulant, barbiturate** and **pitutary harmone** is the Least used Drug Class for perscribed for peoples"
   ]
  },
  {
   "cell_type": "code",
   "execution_count": 71,
   "id": "cc2a3c89",
   "metadata": {
    "execution": {
     "iopub.execute_input": "2022-11-20T14:07:49.482444Z",
     "iopub.status.busy": "2022-11-20T14:07:49.481690Z",
     "iopub.status.idle": "2022-11-20T14:07:51.984975Z",
     "shell.execute_reply": "2022-11-20T14:07:51.983739Z"
    },
    "papermill": {
     "duration": 2.549654,
     "end_time": "2022-11-20T14:07:51.987794",
     "exception": false,
     "start_time": "2022-11-20T14:07:49.438140",
     "status": "completed"
    },
    "tags": []
   },
   "outputs": [
    {
     "data": {
      "text/plain": [
       "<AxesSubplot:xlabel='rating', ylabel='usefulCount'>"
      ]
     },
     "execution_count": 71,
     "metadata": {},
     "output_type": "execute_result"
    },
    {
     "data": {
      "image/png": "[encoded data removed]",
      "text/plain": [
       "<Figure size 432x288 with 1 Axes>"
      ]
     },
     "metadata": {
      "needs_background": "light"
     },
     "output_type": "display_data"
    }
   ],
   "source": [
    "### Correlation between Rating and Usefulcount\n",
    "sns.lineplot(data=df,x='rating',y='usefulCount')"
   ]
  },
  {
   "cell_type": "markdown",
   "id": "ceb30d46",
   "metadata": {
    "papermill": {
     "duration": 0.043115,
     "end_time": "2022-11-20T14:07:52.075160",
     "exception": false,
     "start_time": "2022-11-20T14:07:52.032045",
     "status": "completed"
    },
    "tags": []
   },
   "source": [
    "### Observation :\n",
    "+ As the rating goes up the usefulcount goes up"
   ]
  },
  {
   "cell_type": "markdown",
   "id": "cb838dbd",
   "metadata": {},
   "source": [
    "# Using Hugging face transformations"
   ]
  },
  {
   "cell_type": "code",
   "execution_count": 53,
   "id": "729ef9c6",
   "metadata": {},
   "outputs": [
    {
     "name": "stdout",
     "output_type": "stream",
     "text": [
      "Requirement already satisfied: transformers in c:\\users\\yogesh\\anaconda3\\lib\\site-packages (4.25.1)\n",
      "Requirement already satisfied: datasets in c:\\users\\yogesh\\anaconda3\\lib\\site-packages (2.7.1)\n",
      "Requirement already satisfied: tqdm>=4.62.1 in c:\\users\\yogesh\\anaconda3\\lib\\site-packages (from datasets) (4.64.1)\n",
      "Requirement already satisfied: aiohttp in c:\\users\\yogesh\\anaconda3\\lib\\site-packages (from datasets) (3.8.3)\n",
      "Requirement already satisfied: packaging in c:\\users\\yogesh\\anaconda3\\lib\\site-packages (from datasets) (20.9)\n",
      "Requirement already satisfied: pyarrow>=6.0.0 in c:\\users\\yogesh\\anaconda3\\lib\\site-packages (from datasets) (10.0.1)\n",
      "Requirement already satisfied: numpy>=1.17 in c:\\users\\yogesh\\anaconda3\\lib\\site-packages (from datasets) (1.20.1)\n",
      "Requirement already satisfied: pandas in c:\\users\\yogesh\\anaconda3\\lib\\site-packages (from datasets) (1.2.4)\n",
      "Requirement already satisfied: requests>=2.19.0 in c:\\users\\yogesh\\anaconda3\\lib\\site-packages (from datasets) (2.25.1)\n",
      "Requirement already satisfied: multiprocess in c:\\users\\yogesh\\anaconda3\\lib\\site-packages (from datasets) (0.70.14)\n",
      "Requirement already satisfied: dill<0.3.7 in c:\\users\\yogesh\\anaconda3\\lib\\site-packages (from datasets) (0.3.6)\n",
      "Requirement already satisfied: pyyaml>=5.1 in c:\\users\\yogesh\\anaconda3\\lib\\site-packages (from datasets) (6.0)\n",
      "Requirement already satisfied: xxhash in c:\\users\\yogesh\\anaconda3\\lib\\site-packages (from datasets) (3.1.0)\n",
      "Requirement already satisfied: responses<0.19 in c:\\users\\yogesh\\anaconda3\\lib\\site-packages (from datasets) (0.18.0)\n",
      "Requirement already satisfied: fsspec[http]>=2021.11.1 in c:\\users\\yogesh\\anaconda3\\lib\\site-packages (from datasets) (2022.11.0)\n",
      "Requirement already satisfied: huggingface-hub<1.0.0,>=0.2.0 in c:\\users\\yogesh\\anaconda3\\lib\\site-packages (from datasets) (0.11.1)\n",
      "Requirement already satisfied: yarl<2.0,>=1.0 in c:\\users\\yogesh\\anaconda3\\lib\\site-packages (from aiohttp->datasets) (1.8.2)\n",
      "Requirement already satisfied: async-timeout<5.0,>=4.0.0a3 in c:\\users\\yogesh\\anaconda3\\lib\\site-packages (from aiohttp->datasets) (4.0.2)\n",
      "Requirement already satisfied: aiosignal>=1.1.2 in c:\\users\\yogesh\\anaconda3\\lib\\site-packages (from aiohttp->datasets) (1.3.1)\n",
      "Requirement already satisfied: frozenlist>=1.1.1 in c:\\users\\yogesh\\anaconda3\\lib\\site-packages (from aiohttp->datasets) (1.3.3)\n",
      "Requirement already satisfied: charset-normalizer<3.0,>=2.0 in c:\\users\\yogesh\\anaconda3\\lib\\site-packages (from aiohttp->datasets) (2.1.1)\n",
      "Requirement already satisfied: attrs>=17.3.0 in c:\\users\\yogesh\\anaconda3\\lib\\site-packages (from aiohttp->datasets) (20.3.0)\n",
      "Requirement already satisfied: multidict<7.0,>=4.5 in c:\\users\\yogesh\\anaconda3\\lib\\site-packages (from aiohttp->datasets) (6.0.3)\n",
      "Requirement already satisfied: filelock in c:\\users\\yogesh\\anaconda3\\lib\\site-packages (from huggingface-hub<1.0.0,>=0.2.0->datasets) (3.0.12)\n",
      "Requirement already satisfied: typing-extensions>=3.7.4.3 in c:\\users\\yogesh\\anaconda3\\lib\\site-packages (from huggingface-hub<1.0.0,>=0.2.0->datasets) (3.7.4.3)\n",
      "Requirement already satisfied: pyparsing>=2.0.2 in c:\\users\\yogesh\\anaconda3\\lib\\site-packages (from packaging->datasets) (2.4.7)\n",
      "Requirement already satisfied: certifi>=2017.4.17 in c:\\users\\yogesh\\anaconda3\\lib\\site-packages (from requests>=2.19.0->datasets) (2020.12.5)\n",
      "Requirement already satisfied: chardet<5,>=3.0.2 in c:\\users\\yogesh\\anaconda3\\lib\\site-packages (from requests>=2.19.0->datasets) (4.0.0)\n",
      "Requirement already satisfied: idna<3,>=2.5 in c:\\users\\yogesh\\anaconda3\\lib\\site-packages (from requests>=2.19.0->datasets) (2.10)\n",
      "Requirement already satisfied: urllib3<1.27,>=1.21.1 in c:\\users\\yogesh\\anaconda3\\lib\\site-packages (from requests>=2.19.0->datasets) (1.26.4)\n",
      "Requirement already satisfied: colorama in c:\\users\\yogesh\\anaconda3\\lib\\site-packages (from tqdm>=4.62.1->datasets) (0.4.4)\n",
      "Requirement already satisfied: tokenizers!=0.11.3,<0.14,>=0.11.1 in c:\\users\\yogesh\\anaconda3\\lib\\site-packages (from transformers) (0.13.2)\n",
      "Requirement already satisfied: regex!=2019.12.17 in c:\\users\\yogesh\\anaconda3\\lib\\site-packages (from transformers) (2021.4.4)\n",
      "Requirement already satisfied: python-dateutil>=2.7.3 in c:\\users\\yogesh\\anaconda3\\lib\\site-packages (from pandas->datasets) (2.7.5)\n",
      "Requirement already satisfied: pytz>=2017.3 in c:\\users\\yogesh\\anaconda3\\lib\\site-packages (from pandas->datasets) (2021.1)\n",
      "Requirement already satisfied: six>=1.5 in c:\\users\\yogesh\\anaconda3\\lib\\site-packages (from python-dateutil>=2.7.3->pandas->datasets) (1.15.0)\n"
     ]
    }
   ],
   "source": [
    "# Install transformers and datasets:\n",
    "\n",
    "!pip install transformers datasets"
   ]
  },
  {
   "cell_type": "code",
   "execution_count": 72,
   "id": "2405110a",
   "metadata": {},
   "outputs": [],
   "source": [
    "# Call libraries:\n",
    "# Hugging Face related:\n",
    "\n",
    "from transformers import pipeline\n",
    "from datasets import load_dataset\n",
    "from datasets import Dataset\n",
    "import re"
   ]
  },
  {
   "cell_type": "code",
   "execution_count": 73,
   "id": "c9f46abb",
   "metadata": {},
   "outputs": [],
   "source": [
    "# Display multiple commands outputs from a cell:\n",
    "from IPython.core.interactiveshell import InteractiveShell\n",
    "InteractiveShell.ast_node_interactivity = \"all\""
   ]
  },
  {
   "cell_type": "markdown",
   "id": "1ddc67bd",
   "metadata": {},
   "source": [
    "# Text used\n",
    "<p>I am a 25 year old female. I was diagnosed with bipolar II disorder about 5 years ago. I have been taking 150mg of lamotrigine for over 2 years. Thus far I have experienced significant improvements in controlling my bipolar II disorder. I recently paired 100mg of sertraline to improve the lows. Also, I experience rapid cycling. I rated this drug 70% as I feel I still have a long way to go in recovery. But, the drug has definitely allowed me to be a highly functioning individual.</p>"
   ]
  },
  {
   "cell_type": "markdown",
   "id": "b42f9333",
   "metadata": {},
   "source": [
    "# Question Answering"
   ]
  },
  {
   "cell_type": "code",
   "execution_count": 74,
   "id": "f86c01fd",
   "metadata": {},
   "outputs": [
    {
     "name": "stderr",
     "output_type": "stream",
     "text": [
      "No model was supplied, defaulted to distilbert-base-cased-distilled-squad and revision 626af31 (https://huggingface.co/distilbert-base-cased-distilled-squad).\n",
      "Using a pipeline without specifying a model name and revision in production is not recommended.\n",
      "All model checkpoint layers were used when initializing TFDistilBertForQuestionAnswering.\n",
      "\n",
      "All the layers of TFDistilBertForQuestionAnswering were initialized from the model checkpoint at distilbert-base-cased-distilled-squad.\n",
      "If your task is similar to the task the model of the checkpoint was trained on, you can already use TFDistilBertForQuestionAnswering for predictions without further training.\n"
     ]
    }
   ],
   "source": [
    "# Instantiate question-answer object:\n",
    "\n",
    "question_answerer = pipeline(\"question-answering\")"
   ]
  },
  {
   "cell_type": "code",
   "execution_count": 75,
   "id": "e3c3c4f6",
   "metadata": {},
   "outputs": [
    {
     "data": {
      "text/plain": [
       "{'score': 0.770075798034668, 'start': 7, 'end': 9, 'answer': '25'}"
      ]
     },
     "execution_count": 75,
     "metadata": {},
     "output_type": "execute_result"
    }
   ],
   "source": [
    "# Let the object study context and answer question:\n",
    "\n",
    "question_answerer(\n",
    "    question=\"What is the age of female who gave this rebiew?\",\n",
    "    context=\"I am a 25 year old female. I was diagnosed with bipolar II disorder about 5 years ago. I have been taking 150mg of lamotrigine for over 2 years. Thus far I have experienced significant improvements in controlling my bipolar II disorder. I recently paired 100mg of sertraline to improve the lows. Also, I experience rapid cycling. I rated this drug 70% as I feel I still have a long way to go in recovery. But, the drug has definitely allowed me to be a highly functioning individual.\"\n",
    ")"
   ]
  },
  {
   "cell_type": "code",
   "execution_count": 76,
   "id": "aafb6303",
   "metadata": {},
   "outputs": [
    {
     "data": {
      "text/plain": [
       "{'score': 0.726047694683075,\n",
       " 'start': 48,\n",
       " 'end': 67,\n",
       " 'answer': 'bipolar II disorder'}"
      ]
     },
     "execution_count": 76,
     "metadata": {},
     "output_type": "execute_result"
    }
   ],
   "source": [
    "# Another question with same context:\n",
    "\n",
    "question_answerer(\n",
    "    question=\"Which disease she was diagnosed?\",\n",
    "    context=\"I am a 25 year old female. I was diagnosed with bipolar II disorder about 5 years ago. I have been taking 150mg of lamotrigine for over 2 years. Thus far I have experienced significant improvements in controlling my bipolar II disorder. I recently paired 100mg of sertraline to improve the lows. Also, I experience rapid cycling. I rated this drug 70% as I feel I still have a long way to go in recovery. But, the drug has definitely allowed me to be a highly functioning individual.\"\n",
    ")"
   ]
  },
  {
   "cell_type": "code",
   "execution_count": 77,
   "id": "33e20fbf",
   "metadata": {},
   "outputs": [
    {
     "data": {
      "text/plain": [
       "{'score': 0.531155526638031,\n",
       " 'start': 68,\n",
       " 'end': 85,\n",
       " 'answer': 'about 5 years ago'}"
      ]
     },
     "execution_count": 77,
     "metadata": {},
     "output_type": "execute_result"
    }
   ],
   "source": [
    "# Another question with same context:\n",
    "\n",
    "question_answerer(\n",
    "    question=\"When she was diagnosed?\",\n",
    "    context=\"I am a 25 year old female. I was diagnosed with bipolar II disorder about 5 years ago. I have been taking 150mg of lamotrigine for over 2 years. Thus far I have experienced significant improvements in controlling my bipolar II disorder. I recently paired 100mg of sertraline to improve the lows. Also, I experience rapid cycling. I rated this drug 70% as I feel I still have a long way to go in recovery. But, the drug has definitely allowed me to be a highly functioning individual.\"\n",
    ")"
   ]
  },
  {
   "cell_type": "markdown",
   "id": "8eee3f37",
   "metadata": {},
   "source": [
    "# Text summarization"
   ]
  },
  {
   "cell_type": "code",
   "execution_count": 78,
   "id": "b7bc6925",
   "metadata": {},
   "outputs": [
    {
     "name": "stderr",
     "output_type": "stream",
     "text": [
      "No model was supplied, defaulted to t5-small and revision d769bba (https://huggingface.co/t5-small).\n",
      "Using a pipeline without specifying a model name and revision in production is not recommended.\n",
      "All model checkpoint layers were used when initializing TFT5ForConditionalGeneration.\n",
      "\n",
      "All the layers of TFT5ForConditionalGeneration were initialized from the model checkpoint at t5-small.\n",
      "If your task is similar to the task the model of the checkpoint was trained on, you can already use TFT5ForConditionalGeneration for predictions without further training.\n",
      "C:\\Users\\Yogesh\\anaconda3\\lib\\site-packages\\transformers\\models\\t5\\tokenization_t5_fast.py:155: FutureWarning: This tokenizer was incorrectly instantiated with a model max length of 512 which will be corrected in Transformers v5.\n",
      "For now, this behavior is kept to avoid breaking backwards compatibility when padding/encoding with `truncation is True`.\n",
      "- Be aware that you SHOULD NOT rely on t5-small automatically truncating your input to 512 when padding/encoding.\n",
      "- If you want to encode/pad to sequences longer than 512 you can either instantiate this tokenizer with `model_max_length` or pass `max_length` when encoding/padding.\n",
      "- To avoid this warning, please instantiate this tokenizer with `model_max_length` set to your preferred value.\n",
      "  warnings.warn(\n"
     ]
    }
   ],
   "source": [
    "# Create text summarize object:\n",
    " \n",
    "summarizer = pipeline(\"summarization\")"
   ]
  },
  {
   "cell_type": "code",
   "execution_count": 79,
   "id": "36fd2178",
   "metadata": {},
   "outputs": [
    {
     "name": "stderr",
     "output_type": "stream",
     "text": [
      "Your max_length is set to 200, but you input_length is only 118. You might consider decreasing max_length manually, e.g. summarizer('...', max_length=59)\n"
     ]
    },
    {
     "data": {
      "text/plain": [
       "[{'summary_text': '25-year-old was diagnosed with bipolar II disorder about 5 years ago . recently paired 100mg of sertraline to improve the lows .'}]"
      ]
     },
     "execution_count": 79,
     "metadata": {},
     "output_type": "execute_result"
    }
   ],
   "source": [
    "summarizer(\"I am a 25 year old female. I was diagnosed with bipolar II disorder about 5 years ago. I have been taking 150mg of lamotrigine for over 2 years. Thus far I have experienced significant improvements in controlling my bipolar II disorder. I recently paired 100mg of sertraline to improve the lows. Also, I experience rapid cycling. I rated this drug 70% as I feel I still have a long way to go in recovery. But, the drug has definitely allowed me to be a highly functioning individual.\")"
   ]
  },
  {
   "cell_type": "markdown",
   "id": "34c41df0",
   "metadata": {},
   "source": [
    "# Text generation"
   ]
  },
  {
   "cell_type": "code",
   "execution_count": 80,
   "id": "cbbfa51a",
   "metadata": {},
   "outputs": [
    {
     "name": "stderr",
     "output_type": "stream",
     "text": [
      "All model checkpoint layers were used when initializing TFGPT2LMHeadModel.\n",
      "\n",
      "All the layers of TFGPT2LMHeadModel were initialized from the model checkpoint at gpt2.\n",
      "If your task is similar to the task the model of the checkpoint was trained on, you can already use TFGPT2LMHeadModel for predictions without further training.\n"
     ]
    }
   ],
   "source": [
    "# Text generation pipeline:\n",
    "generator = pipeline('text-generation', model = 'gpt2')\n"
   ]
  },
  {
   "cell_type": "code",
   "execution_count": 81,
   "id": "0a14846f",
   "metadata": {},
   "outputs": [
    {
     "name": "stderr",
     "output_type": "stream",
     "text": [
      "Setting `pad_token_id` to 50256 (first `eos_token_id`) to generate sequence\n"
     ]
    },
    {
     "data": {
      "text/plain": [
       "[{'generated_text': \"I am a 25 year old female. I was diagnosed with bipolar II disorder about 5 years ago. I am an alcoholic, and I'm a woman.\\n\\nI started doing things on my own rather than making my own medications. I wanted this medication to be as effective as I could be for\"},\n",
       " {'generated_text': \"I am a 25 year old female. I was diagnosed with bipolar II disorder about 5 years ago. As a result of my mood disorder, there were a lot of things she talked about to me. I felt I shouldn't talk to her anymore. So in a small way, I was able to\"},\n",
       " {'generated_text': \"I am a 25 year old female. I was diagnosed with bipolar II disorder about 5 years ago. I'm currently experiencing anxiety, depression, agitation, and seizures and still trying to deal with this loss. I am trying not to give up on finding people that I love so much. I am going\"}]"
      ]
     },
     "execution_count": 81,
     "metadata": {},
     "output_type": "execute_result"
    }
   ],
   "source": [
    "# Generate text\n",
    "generator(\"I am a 25 year old female. I was diagnosed with bipolar II disorder about 5 years ago.\", max_length = 60, num_return_sequences=3)\n"
   ]
  },
  {
   "cell_type": "code",
   "execution_count": 82,
   "id": "887d5677",
   "metadata": {},
   "outputs": [],
   "source": [
    "############ Project Completed #############"
   ]
  }
 ],
 "metadata": {
  "kernelspec": {
   "display_name": "Python 3",
   "language": "python",
   "name": "python3"
  },
  "language_info": {
   "codemirror_mode": {
    "name": "ipython",
    "version": 3
   },
   "file_extension": ".py",
   "mimetype": "text/x-python",
   "name": "python",
   "nbconvert_exporter": "python",
   "pygments_lexer": "ipython3",
   "version": "3.8.8"
  },
  "papermill": {
   "default_parameters": {},
   "duration": 305.866553,
   "end_time": "2022-11-20T14:07:53.425087",
   "environment_variables": {},
   "exception": null,
   "input_path": "__notebook__.ipynb",
   "output_path": "__notebook__.ipynb",
   "parameters": {},
   "start_time": "2022-11-20T14:02:47.558534",
   "version": "2.3.4"
  }
 },
 "nbformat": 4,
 "nbformat_minor": 5
}
